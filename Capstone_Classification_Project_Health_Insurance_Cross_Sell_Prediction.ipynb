{
 "cells": [
  {
   "cell_type": "markdown",
   "metadata": {
    "id": "ILM16xV1PD8m"
   },
   "source": [
    "# **Project Name**    -  **Health Insurance Cross Sell Prediction**\n",
    "\n"
   ]
  },
  {
   "cell_type": "markdown",
   "metadata": {
    "id": "bqVZBxrvPD8n"
   },
   "source": [
    "##### **Project Type**    - Classification\n"
   ]
  },
  {
   "cell_type": "markdown",
   "metadata": {
    "id": "yQaldy8SH6Dl"
   },
   "source": [
    "# **Problem Statement**\n",
    "##### Our client is an insurance company that has provided Health Insurance to it's customers. now they need your help in building a model to predict whether the policyholders (customers) from the past year will also be interested in Vehicle insurance provided by the company. An insurance policy is an agreement by which a company undertakes to provide a guarantee of compensation for specified loss, damage, illness, or death in return for the payment of a specified premium. A premium is sum of money that the customer needs to pay regularly to an insurance company for this guarantee. For example, you may pay a premium of a Rs. 5000 each year for a health insurance cover of Rs. 200,000/- so that if, God forbid, you fall ill and need to be hospitalised in that year, the insurance premium will bear the cost of hospitalisation etc. for upto Rs. 200,000. Now, if you are wondering how can company bear such high hospitalisation cost when it charges a premium of only Rs. 5000/-, that is where the concept of probabilities comes in picture. For example, like you, there may be 100 customers who would be paying a premium of Rs. 5000 every year, but only a few of them (say 2-3) would get hospitalized that year and not everyone.This way everyone shares the risk of everyone else.  \n",
    "##### Just like medical insurance, there is vehicle insurance where every year customer needs to pay a premium of certain amount to insurance provider company so that in case of unfortunate accident by the vehicle, the insurance provider company will provide a compensation (called 'sum assured') to the customer.\n",
    "##### Building a model to predict whether a customer would be interested in vehicle insurance is extremely helpful for the company because it can then accordingly plan its communication strategy to reach out to those customers and optimise its business model and revenue.\n",
    "##### Now, in order to predict, whether the customer would be interested in Vehicle insurance, you have information about demographics (gender, age, region code), Vehicles(Vehicle age, Damage), Policy (Premium, sourcing channel),etc."
   ]
  },
  {
   "cell_type": "markdown",
   "metadata": {
    "id": "O_i_v8NEhb9l"
   },
   "source": [
    "# ***Let's Begin !***"
   ]
  },
  {
   "cell_type": "markdown",
   "metadata": {
    "id": "HhfV-JJviCcP"
   },
   "source": [
    "## ***1. Know Your Data***"
   ]
  },
  {
   "cell_type": "markdown",
   "metadata": {
    "id": "Y3lxredqlCYt"
   },
   "source": [
    "### Import Libraries"
   ]
  },
  {
   "cell_type": "code",
   "execution_count": 1,
   "metadata": {
    "id": "QdO4MsEZqCJu"
   },
   "outputs": [],
   "source": [
    "import pandas as pd\n",
    "import numpy as np\n",
    "import matplotlib.pyplot as plt\n",
    "import seaborn as sns\n",
    "sns.set()\n",
    "\n",
    "from sklearn.model_selection import train_test_split\n",
    "from sklearn.linear_model import LogisticRegression\n",
    "from sklearn.tree import DecisionTreeClassifier\n",
    "from sklearn.ensemble import RandomForestClassifier\n",
    "from sklearn.ensemble import AdaBoostClassifier\n",
    "\n",
    "from sklearn.metrics import accuracy_score\n",
    "from sklearn.model_selection import GridSearchCV\n",
    "from sklearn.model_selection import RandomizedSearchCV\n",
    "\n",
    "\n",
    "from sklearn.metrics import roc_auc_score, confusion_matrix,f1_score,classification_report,recall_score\n",
    "from sklearn.model_selection import cross_val_score \n",
    "\n",
    "from imblearn.over_sampling import SMOTE\n",
    "\n",
    "import warnings\n",
    "warnings.filterwarnings('ignore')"
   ]
  },
  {
   "cell_type": "markdown",
   "metadata": {
    "id": "3RnN4peoiCZX"
   },
   "source": [
    "### Dataset Loading"
   ]
  },
  {
   "cell_type": "code",
   "execution_count": 2,
   "metadata": {
    "id": "iAgHFIg1qNsB"
   },
   "outputs": [],
   "source": [
    "df = pd.read_csv('D:\\Paython daily class\\ML Projects API\\Insurance_Cross_github\\TRAIN-HEALTH INSURANCE CROSS SELL PREDICTION.csv')"
   ]
  },
  {
   "cell_type": "markdown",
   "metadata": {
    "id": "x71ZqKXriCWQ"
   },
   "source": [
    "### Dataset First View"
   ]
  },
  {
   "cell_type": "code",
   "execution_count": 3,
   "metadata": {
    "colab": {
     "base_uri": "https://localhost:8080/",
     "height": 206
    },
    "id": "vFOEf-a9quD1",
    "outputId": "b1623298-4480-4627-c59a-4c22cd95fb78"
   },
   "outputs": [
    {
     "data": {
      "text/html": [
       "<div>\n",
       "<style scoped>\n",
       "    .dataframe tbody tr th:only-of-type {\n",
       "        vertical-align: middle;\n",
       "    }\n",
       "\n",
       "    .dataframe tbody tr th {\n",
       "        vertical-align: top;\n",
       "    }\n",
       "\n",
       "    .dataframe thead th {\n",
       "        text-align: right;\n",
       "    }\n",
       "</style>\n",
       "<table border=\"1\" class=\"dataframe\">\n",
       "  <thead>\n",
       "    <tr style=\"text-align: right;\">\n",
       "      <th></th>\n",
       "      <th>id</th>\n",
       "      <th>Gender</th>\n",
       "      <th>Age</th>\n",
       "      <th>Driving_License</th>\n",
       "      <th>Region_Code</th>\n",
       "      <th>Previously_Insured</th>\n",
       "      <th>Vehicle_Age</th>\n",
       "      <th>Vehicle_Damage</th>\n",
       "      <th>Annual_Premium</th>\n",
       "      <th>Policy_Sales_Channel</th>\n",
       "      <th>Vintage</th>\n",
       "      <th>Response</th>\n",
       "    </tr>\n",
       "  </thead>\n",
       "  <tbody>\n",
       "    <tr>\n",
       "      <th>0</th>\n",
       "      <td>1</td>\n",
       "      <td>Male</td>\n",
       "      <td>44</td>\n",
       "      <td>1</td>\n",
       "      <td>28.0</td>\n",
       "      <td>0</td>\n",
       "      <td>&gt; 2 Years</td>\n",
       "      <td>Yes</td>\n",
       "      <td>40454.0</td>\n",
       "      <td>26.0</td>\n",
       "      <td>217</td>\n",
       "      <td>1</td>\n",
       "    </tr>\n",
       "    <tr>\n",
       "      <th>1</th>\n",
       "      <td>2</td>\n",
       "      <td>Male</td>\n",
       "      <td>76</td>\n",
       "      <td>1</td>\n",
       "      <td>3.0</td>\n",
       "      <td>0</td>\n",
       "      <td>1-2 Year</td>\n",
       "      <td>No</td>\n",
       "      <td>33536.0</td>\n",
       "      <td>26.0</td>\n",
       "      <td>183</td>\n",
       "      <td>0</td>\n",
       "    </tr>\n",
       "    <tr>\n",
       "      <th>2</th>\n",
       "      <td>3</td>\n",
       "      <td>Male</td>\n",
       "      <td>47</td>\n",
       "      <td>1</td>\n",
       "      <td>28.0</td>\n",
       "      <td>0</td>\n",
       "      <td>&gt; 2 Years</td>\n",
       "      <td>Yes</td>\n",
       "      <td>38294.0</td>\n",
       "      <td>26.0</td>\n",
       "      <td>27</td>\n",
       "      <td>1</td>\n",
       "    </tr>\n",
       "    <tr>\n",
       "      <th>3</th>\n",
       "      <td>4</td>\n",
       "      <td>Male</td>\n",
       "      <td>21</td>\n",
       "      <td>1</td>\n",
       "      <td>11.0</td>\n",
       "      <td>1</td>\n",
       "      <td>&lt; 1 Year</td>\n",
       "      <td>No</td>\n",
       "      <td>28619.0</td>\n",
       "      <td>152.0</td>\n",
       "      <td>203</td>\n",
       "      <td>0</td>\n",
       "    </tr>\n",
       "    <tr>\n",
       "      <th>4</th>\n",
       "      <td>5</td>\n",
       "      <td>Female</td>\n",
       "      <td>29</td>\n",
       "      <td>1</td>\n",
       "      <td>41.0</td>\n",
       "      <td>1</td>\n",
       "      <td>&lt; 1 Year</td>\n",
       "      <td>No</td>\n",
       "      <td>27496.0</td>\n",
       "      <td>152.0</td>\n",
       "      <td>39</td>\n",
       "      <td>0</td>\n",
       "    </tr>\n",
       "  </tbody>\n",
       "</table>\n",
       "</div>"
      ],
      "text/plain": [
       "   id  Gender  Age  Driving_License  Region_Code  Previously_Insured  \\\n",
       "0   1    Male   44                1         28.0                   0   \n",
       "1   2    Male   76                1          3.0                   0   \n",
       "2   3    Male   47                1         28.0                   0   \n",
       "3   4    Male   21                1         11.0                   1   \n",
       "4   5  Female   29                1         41.0                   1   \n",
       "\n",
       "  Vehicle_Age Vehicle_Damage  Annual_Premium  Policy_Sales_Channel  Vintage  \\\n",
       "0   > 2 Years            Yes         40454.0                  26.0      217   \n",
       "1    1-2 Year             No         33536.0                  26.0      183   \n",
       "2   > 2 Years            Yes         38294.0                  26.0       27   \n",
       "3    < 1 Year             No         28619.0                 152.0      203   \n",
       "4    < 1 Year             No         27496.0                 152.0       39   \n",
       "\n",
       "   Response  \n",
       "0         1  \n",
       "1         0  \n",
       "2         1  \n",
       "3         0  \n",
       "4         0  "
      ]
     },
     "execution_count": 3,
     "metadata": {},
     "output_type": "execute_result"
    }
   ],
   "source": [
    "# Viewing the data of top 5 rows to take a glimps of the data\n",
    "df.head()"
   ]
  },
  {
   "cell_type": "markdown",
   "metadata": {
    "id": "7hBIi_osiCS2"
   },
   "source": [
    "### Dataset Rows & Columns count"
   ]
  },
  {
   "cell_type": "code",
   "execution_count": 4,
   "metadata": {
    "colab": {
     "base_uri": "https://localhost:8080/"
    },
    "id": "2H8gDvCrq7A1",
    "outputId": "44c4e8b4-3a65-4f9a-c02d-1d66f5653d0c"
   },
   "outputs": [
    {
     "data": {
      "text/plain": [
       "(381109, 12)"
      ]
     },
     "execution_count": 4,
     "metadata": {},
     "output_type": "execute_result"
    }
   ],
   "source": [
    "#Getting the shape of dataset with rows and columns\n",
    "\n",
    "df.shape"
   ]
  },
  {
   "cell_type": "markdown",
   "metadata": {
    "id": "JlHwYmJAmNHm"
   },
   "source": [
    "### Dataset Information"
   ]
  },
  {
   "cell_type": "code",
   "execution_count": 5,
   "metadata": {
    "colab": {
     "base_uri": "https://localhost:8080/"
    },
    "id": "RwIX6WAprBEx",
    "outputId": "f643a8a6-80ef-47e9-a536-d4588f86f8fc"
   },
   "outputs": [
    {
     "name": "stdout",
     "output_type": "stream",
     "text": [
      "<class 'pandas.core.frame.DataFrame'>\n",
      "RangeIndex: 381109 entries, 0 to 381108\n",
      "Data columns (total 12 columns):\n",
      " #   Column                Non-Null Count   Dtype  \n",
      "---  ------                --------------   -----  \n",
      " 0   id                    381109 non-null  int64  \n",
      " 1   Gender                381109 non-null  object \n",
      " 2   Age                   381109 non-null  int64  \n",
      " 3   Driving_License       381109 non-null  int64  \n",
      " 4   Region_Code           381109 non-null  float64\n",
      " 5   Previously_Insured    381109 non-null  int64  \n",
      " 6   Vehicle_Age           381109 non-null  object \n",
      " 7   Vehicle_Damage        381109 non-null  object \n",
      " 8   Annual_Premium        381109 non-null  float64\n",
      " 9   Policy_Sales_Channel  381109 non-null  float64\n",
      " 10  Vintage               381109 non-null  int64  \n",
      " 11  Response              381109 non-null  int64  \n",
      "dtypes: float64(3), int64(6), object(3)\n",
      "memory usage: 34.9+ MB\n"
     ]
    }
   ],
   "source": [
    "df.info()"
   ]
  },
  {
   "cell_type": "markdown",
   "metadata": {
    "id": "35m5QtbWiB9F"
   },
   "source": [
    "#### Duplicate Values"
   ]
  },
  {
   "cell_type": "markdown",
   "metadata": {
    "id": "x5FryvjqWwFH"
   },
   "source": [
    "**Why is it important to remove duplicate records from my data?** \n",
    "* \"Duplication\" just means that you have repeated data in your dataset. This could be due to things like data entry errors or data collection methods. by removing duplication in our data set,  Time and money are saved by not sending identical communications multiple times to the same person.***"
   ]
  },
  {
   "cell_type": "code",
   "execution_count": 6,
   "metadata": {
    "colab": {
     "base_uri": "https://localhost:8080/"
    },
    "id": "fuyx57BDrFnB",
    "outputId": "6e4611e5-6530-4ed8-d032-a2ccba4cac61"
   },
   "outputs": [
    {
     "name": "stdout",
     "output_type": "stream",
     "text": [
      "There are 0 duplicate values in dataset\n"
     ]
    }
   ],
   "source": [
    "# Dataset Duplicate Value Count\n",
    "dupliates = len(df[df.duplicated()])\n",
    "print(\"There are {} duplicate values in dataset\".format(dupliates))"
   ]
  },
  {
   "cell_type": "markdown",
   "metadata": {
    "id": "INta7FkIUtje"
   },
   "source": [
    "* ***In the above data after count the missing and duplicate value we came to know that there are no missing and duplicate value present.***"
   ]
  },
  {
   "cell_type": "markdown",
   "metadata": {
    "id": "PoPl-ycgm1ru"
   },
   "source": [
    "#### Missing Values/Null Values"
   ]
  },
  {
   "cell_type": "code",
   "execution_count": 7,
   "metadata": {
    "colab": {
     "base_uri": "https://localhost:8080/"
    },
    "id": "MbTRljFWrMaR",
    "outputId": "8b4ee8ec-ed03-4c89-c100-d67ba6b40f23"
   },
   "outputs": [
    {
     "name": "stdout",
     "output_type": "stream",
     "text": [
      "id                      0\n",
      "Gender                  0\n",
      "Age                     0\n",
      "Driving_License         0\n",
      "Region_Code             0\n",
      "Previously_Insured      0\n",
      "Vehicle_Age             0\n",
      "Vehicle_Damage          0\n",
      "Annual_Premium          0\n",
      "Policy_Sales_Channel    0\n",
      "Vintage                 0\n",
      "Response                0\n",
      "dtype: int64\n"
     ]
    }
   ],
   "source": [
    "# Missing Values/Null Values Count\n",
    "print(df.isnull().sum())"
   ]
  },
  {
   "cell_type": "markdown",
   "metadata": {
    "id": "a1oCaCrzV8mN"
   },
   "source": [
    "* ***As we can see above there are no missing value presents thankfully***"
   ]
  },
  {
   "cell_type": "markdown",
   "metadata": {
    "id": "nA9Y7ga8ng1Z"
   },
   "source": [
    "## ***2. Understanding Your Variables***"
   ]
  },
  {
   "cell_type": "code",
   "execution_count": 8,
   "metadata": {
    "colab": {
     "base_uri": "https://localhost:8080/"
    },
    "id": "DAAopV4lro0S",
    "outputId": "f216ed53-3c84-4bc2-c68e-abb76bb773b5"
   },
   "outputs": [
    {
     "data": {
      "text/plain": [
       "Index(['id', 'Gender', 'Age', 'Driving_License', 'Region_Code',\n",
       "       'Previously_Insured', 'Vehicle_Age', 'Vehicle_Damage', 'Annual_Premium',\n",
       "       'Policy_Sales_Channel', 'Vintage', 'Response'],\n",
       "      dtype='object')"
      ]
     },
     "execution_count": 8,
     "metadata": {},
     "output_type": "execute_result"
    }
   ],
   "source": [
    "# Dataset Columns\n",
    "df.columns"
   ]
  },
  {
   "cell_type": "code",
   "execution_count": 14,
   "metadata": {
    "colab": {
     "base_uri": "https://localhost:8080/",
     "height": 331
    },
    "id": "uARHJ6CirpMB",
    "outputId": "460f1ed5-cefa-4958-81af-789ab23d2661"
   },
   "outputs": [
    {
     "data": {
      "text/html": [
       "<div>\n",
       "<style scoped>\n",
       "    .dataframe tbody tr th:only-of-type {\n",
       "        vertical-align: middle;\n",
       "    }\n",
       "\n",
       "    .dataframe tbody tr th {\n",
       "        vertical-align: top;\n",
       "    }\n",
       "\n",
       "    .dataframe thead th {\n",
       "        text-align: right;\n",
       "    }\n",
       "</style>\n",
       "<table border=\"1\" class=\"dataframe\">\n",
       "  <thead>\n",
       "    <tr style=\"text-align: right;\">\n",
       "      <th></th>\n",
       "      <th>count</th>\n",
       "      <th>mean</th>\n",
       "      <th>std</th>\n",
       "      <th>min</th>\n",
       "      <th>25%</th>\n",
       "      <th>50%</th>\n",
       "      <th>75%</th>\n",
       "      <th>max</th>\n",
       "    </tr>\n",
       "  </thead>\n",
       "  <tbody>\n",
       "    <tr>\n",
       "      <th>id</th>\n",
       "      <td>381109.0</td>\n",
       "      <td>190555.000000</td>\n",
       "      <td>110016.836208</td>\n",
       "      <td>1.0</td>\n",
       "      <td>95278.0</td>\n",
       "      <td>190555.0</td>\n",
       "      <td>285832.0</td>\n",
       "      <td>381109.0</td>\n",
       "    </tr>\n",
       "    <tr>\n",
       "      <th>Age</th>\n",
       "      <td>381109.0</td>\n",
       "      <td>38.822584</td>\n",
       "      <td>15.511611</td>\n",
       "      <td>20.0</td>\n",
       "      <td>25.0</td>\n",
       "      <td>36.0</td>\n",
       "      <td>49.0</td>\n",
       "      <td>85.0</td>\n",
       "    </tr>\n",
       "    <tr>\n",
       "      <th>Driving_License</th>\n",
       "      <td>381109.0</td>\n",
       "      <td>0.997869</td>\n",
       "      <td>0.046110</td>\n",
       "      <td>0.0</td>\n",
       "      <td>1.0</td>\n",
       "      <td>1.0</td>\n",
       "      <td>1.0</td>\n",
       "      <td>1.0</td>\n",
       "    </tr>\n",
       "    <tr>\n",
       "      <th>Region_Code</th>\n",
       "      <td>381109.0</td>\n",
       "      <td>26.388807</td>\n",
       "      <td>13.229888</td>\n",
       "      <td>0.0</td>\n",
       "      <td>15.0</td>\n",
       "      <td>28.0</td>\n",
       "      <td>35.0</td>\n",
       "      <td>52.0</td>\n",
       "    </tr>\n",
       "    <tr>\n",
       "      <th>Previously_Insured</th>\n",
       "      <td>381109.0</td>\n",
       "      <td>0.458210</td>\n",
       "      <td>0.498251</td>\n",
       "      <td>0.0</td>\n",
       "      <td>0.0</td>\n",
       "      <td>0.0</td>\n",
       "      <td>1.0</td>\n",
       "      <td>1.0</td>\n",
       "    </tr>\n",
       "    <tr>\n",
       "      <th>Annual_Premium</th>\n",
       "      <td>381109.0</td>\n",
       "      <td>30564.389581</td>\n",
       "      <td>17213.155057</td>\n",
       "      <td>2630.0</td>\n",
       "      <td>24405.0</td>\n",
       "      <td>31669.0</td>\n",
       "      <td>39400.0</td>\n",
       "      <td>540165.0</td>\n",
       "    </tr>\n",
       "    <tr>\n",
       "      <th>Policy_Sales_Channel</th>\n",
       "      <td>381109.0</td>\n",
       "      <td>112.034295</td>\n",
       "      <td>54.203995</td>\n",
       "      <td>1.0</td>\n",
       "      <td>29.0</td>\n",
       "      <td>133.0</td>\n",
       "      <td>152.0</td>\n",
       "      <td>163.0</td>\n",
       "    </tr>\n",
       "    <tr>\n",
       "      <th>Vintage</th>\n",
       "      <td>381109.0</td>\n",
       "      <td>154.347397</td>\n",
       "      <td>83.671304</td>\n",
       "      <td>10.0</td>\n",
       "      <td>82.0</td>\n",
       "      <td>154.0</td>\n",
       "      <td>227.0</td>\n",
       "      <td>299.0</td>\n",
       "    </tr>\n",
       "    <tr>\n",
       "      <th>Response</th>\n",
       "      <td>381109.0</td>\n",
       "      <td>0.122563</td>\n",
       "      <td>0.327936</td>\n",
       "      <td>0.0</td>\n",
       "      <td>0.0</td>\n",
       "      <td>0.0</td>\n",
       "      <td>0.0</td>\n",
       "      <td>1.0</td>\n",
       "    </tr>\n",
       "  </tbody>\n",
       "</table>\n",
       "</div>"
      ],
      "text/plain": [
       "                         count           mean            std     min      25%  \\\n",
       "id                    381109.0  190555.000000  110016.836208     1.0  95278.0   \n",
       "Age                   381109.0      38.822584      15.511611    20.0     25.0   \n",
       "Driving_License       381109.0       0.997869       0.046110     0.0      1.0   \n",
       "Region_Code           381109.0      26.388807      13.229888     0.0     15.0   \n",
       "Previously_Insured    381109.0       0.458210       0.498251     0.0      0.0   \n",
       "Annual_Premium        381109.0   30564.389581   17213.155057  2630.0  24405.0   \n",
       "Policy_Sales_Channel  381109.0     112.034295      54.203995     1.0     29.0   \n",
       "Vintage               381109.0     154.347397      83.671304    10.0     82.0   \n",
       "Response              381109.0       0.122563       0.327936     0.0      0.0   \n",
       "\n",
       "                           50%       75%       max  \n",
       "id                    190555.0  285832.0  381109.0  \n",
       "Age                       36.0      49.0      85.0  \n",
       "Driving_License            1.0       1.0       1.0  \n",
       "Region_Code               28.0      35.0      52.0  \n",
       "Previously_Insured         0.0       1.0       1.0  \n",
       "Annual_Premium         31669.0   39400.0  540165.0  \n",
       "Policy_Sales_Channel     133.0     152.0     163.0  \n",
       "Vintage                  154.0     227.0     299.0  \n",
       "Response                   0.0       0.0       1.0  "
      ]
     },
     "execution_count": 14,
     "metadata": {},
     "output_type": "execute_result"
    }
   ],
   "source": [
    "# Dataset Describe\n",
    "df.describe().T"
   ]
  },
  {
   "cell_type": "markdown",
   "metadata": {
    "id": "PBTbrJXOngz2"
   },
   "source": [
    "### Variables Description "
   ]
  },
  {
   "cell_type": "markdown",
   "metadata": {
    "id": "AlLxAtlziMbP"
   },
   "source": [
    "#### <b>Attribute Information: </b>\n",
    "\n",
    "* ##### id : Unique ID for a Customer\n",
    "* ##### Gender - Male/female\n",
    "* ##### Age - Age of Cutomer\n",
    "* ##### Driving Lincese- Customer has DL or not\n",
    "* ##### Region_Code - Unique code for the region of the customer\n",
    "* ##### Previously_insured - Customer already has vehicle insurance or not\n",
    "* ##### Vehicle_age - Age of the vehicle\n",
    "* ##### Vehicle_damage - past damages present or not\n",
    "* ##### Annual Premium - amount customer needs to pay as premium\n",
    "* ##### PolicySalessChannel - Anonymized Code for the channel of outreaching to the customer i.e. Different Agents, Ovver Mail, Over Phone, In Person, etc. \n",
    "* ##### Vintage - Number of days, Customer has been associated with the company.\n",
    "* ##### Response - Customer is interested or not."
   ]
  },
  {
   "cell_type": "markdown",
   "metadata": {
    "id": "u3PMJOP6ngxN"
   },
   "source": [
    "### Check Unique Values for each variable."
   ]
  },
  {
   "cell_type": "code",
   "execution_count": 15,
   "metadata": {
    "colab": {
     "base_uri": "https://localhost:8080/"
    },
    "id": "C29APwBAt7fO",
    "outputId": "019000ae-b056-4912-aac5-afb6282a6933"
   },
   "outputs": [
    {
     "name": "stdout",
     "output_type": "stream",
     "text": [
      "No. of unique values in  id is 381109 .\n",
      "No. of unique values in  Gender is 2 .\n",
      "No. of unique values in  Age is 66 .\n",
      "No. of unique values in  Driving_License is 2 .\n",
      "No. of unique values in  Region_Code is 53 .\n",
      "No. of unique values in  Previously_Insured is 2 .\n",
      "No. of unique values in  Vehicle_Age is 3 .\n",
      "No. of unique values in  Vehicle_Damage is 2 .\n",
      "No. of unique values in  Annual_Premium is 48838 .\n",
      "No. of unique values in  Policy_Sales_Channel is 155 .\n",
      "No. of unique values in  Vintage is 290 .\n",
      "No. of unique values in  Response is 2 .\n"
     ]
    }
   ],
   "source": [
    "# Check Unique Values for each variable.\n",
    "for i in df.columns.tolist():\n",
    "    print(\"No. of unique values in \",i,\"is\" ,df[i].nunique(),\".\")"
   ]
  },
  {
   "cell_type": "markdown",
   "metadata": {
    "id": "dauF4eBmngu3"
   },
   "source": [
    "## 3. ***Data Wrangling***"
   ]
  },
  {
   "cell_type": "code",
   "execution_count": null,
   "metadata": {
    "id": "UgLEk7UwBqNp"
   },
   "outputs": [],
   "source": [
    "df.drop(['id','Region_Code','Policy_Sales_Channel'], axis = 1, inplace = True)"
   ]
  },
  {
   "cell_type": "markdown",
   "metadata": {
    "id": "2uiSIB5AgMWb"
   },
   "source": [
    "- **The id column consist of unique id for each customer which will not help us to make the right predictions so we drop it.**\n",
    "- **Region code column consists of unique codes for various region, which shows which customer belongs to which region. But the problem here is that it's a categorical column and it contains 53 different unique codes. So due to the large number of categories of region codes we have to drop this column.**\n",
    "- **Policy_Sales_Channel contains the values of the anonymized code of outreaching customers such as over call, over mails etc. This also contains 155 unique categories of codes which are quite unclear. So due to lack of information amd unclarity we will drop this column.**"
   ]
  },
  {
   "cell_type": "code",
   "execution_count": null,
   "metadata": {
    "colab": {
     "base_uri": "https://localhost:8080/",
     "height": 206
    },
    "id": "_EdMixBpDnEu",
    "outputId": "7f7e8c8b-bdbb-4607-f027-2a6edd77207a"
   },
   "outputs": [
    {
     "data": {
      "text/html": [
       "\n",
       "  <div id=\"df-9a396fd5-b254-4191-a522-dde46581bf3e\">\n",
       "    <div class=\"colab-df-container\">\n",
       "      <div>\n",
       "<style scoped>\n",
       "    .dataframe tbody tr th:only-of-type {\n",
       "        vertical-align: middle;\n",
       "    }\n",
       "\n",
       "    .dataframe tbody tr th {\n",
       "        vertical-align: top;\n",
       "    }\n",
       "\n",
       "    .dataframe thead th {\n",
       "        text-align: right;\n",
       "    }\n",
       "</style>\n",
       "<table border=\"1\" class=\"dataframe\">\n",
       "  <thead>\n",
       "    <tr style=\"text-align: right;\">\n",
       "      <th></th>\n",
       "      <th>Gender</th>\n",
       "      <th>Age</th>\n",
       "      <th>Driving_License</th>\n",
       "      <th>Previously_Insured</th>\n",
       "      <th>Vehicle_Age</th>\n",
       "      <th>Vehicle_Damage</th>\n",
       "      <th>Annual_Premium</th>\n",
       "      <th>Vintage</th>\n",
       "      <th>Response</th>\n",
       "    </tr>\n",
       "  </thead>\n",
       "  <tbody>\n",
       "    <tr>\n",
       "      <th>0</th>\n",
       "      <td>Male</td>\n",
       "      <td>44</td>\n",
       "      <td>1</td>\n",
       "      <td>0</td>\n",
       "      <td>&gt; 2 Years</td>\n",
       "      <td>Yes</td>\n",
       "      <td>40454.0</td>\n",
       "      <td>217</td>\n",
       "      <td>1</td>\n",
       "    </tr>\n",
       "    <tr>\n",
       "      <th>1</th>\n",
       "      <td>Male</td>\n",
       "      <td>76</td>\n",
       "      <td>1</td>\n",
       "      <td>0</td>\n",
       "      <td>1-2 Year</td>\n",
       "      <td>No</td>\n",
       "      <td>33536.0</td>\n",
       "      <td>183</td>\n",
       "      <td>0</td>\n",
       "    </tr>\n",
       "    <tr>\n",
       "      <th>2</th>\n",
       "      <td>Male</td>\n",
       "      <td>47</td>\n",
       "      <td>1</td>\n",
       "      <td>0</td>\n",
       "      <td>&gt; 2 Years</td>\n",
       "      <td>Yes</td>\n",
       "      <td>38294.0</td>\n",
       "      <td>27</td>\n",
       "      <td>1</td>\n",
       "    </tr>\n",
       "    <tr>\n",
       "      <th>3</th>\n",
       "      <td>Male</td>\n",
       "      <td>21</td>\n",
       "      <td>1</td>\n",
       "      <td>1</td>\n",
       "      <td>&lt; 1 Year</td>\n",
       "      <td>No</td>\n",
       "      <td>28619.0</td>\n",
       "      <td>203</td>\n",
       "      <td>0</td>\n",
       "    </tr>\n",
       "    <tr>\n",
       "      <th>4</th>\n",
       "      <td>Female</td>\n",
       "      <td>29</td>\n",
       "      <td>1</td>\n",
       "      <td>1</td>\n",
       "      <td>&lt; 1 Year</td>\n",
       "      <td>No</td>\n",
       "      <td>27496.0</td>\n",
       "      <td>39</td>\n",
       "      <td>0</td>\n",
       "    </tr>\n",
       "  </tbody>\n",
       "</table>\n",
       "</div>\n",
       "      <button class=\"colab-df-convert\" onclick=\"convertToInteractive('df-9a396fd5-b254-4191-a522-dde46581bf3e')\"\n",
       "              title=\"Convert this dataframe to an interactive table.\"\n",
       "              style=\"display:none;\">\n",
       "        \n",
       "  <svg xmlns=\"http://www.w3.org/2000/svg\" height=\"24px\"viewBox=\"0 0 24 24\"\n",
       "       width=\"24px\">\n",
       "    <path d=\"M0 0h24v24H0V0z\" fill=\"none\"/>\n",
       "    <path d=\"M18.56 5.44l.94 2.06.94-2.06 2.06-.94-2.06-.94-.94-2.06-.94 2.06-2.06.94zm-11 1L8.5 8.5l.94-2.06 2.06-.94-2.06-.94L8.5 2.5l-.94 2.06-2.06.94zm10 10l.94 2.06.94-2.06 2.06-.94-2.06-.94-.94-2.06-.94 2.06-2.06.94z\"/><path d=\"M17.41 7.96l-1.37-1.37c-.4-.4-.92-.59-1.43-.59-.52 0-1.04.2-1.43.59L10.3 9.45l-7.72 7.72c-.78.78-.78 2.05 0 2.83L4 21.41c.39.39.9.59 1.41.59.51 0 1.02-.2 1.41-.59l7.78-7.78 2.81-2.81c.8-.78.8-2.07 0-2.86zM5.41 20L4 18.59l7.72-7.72 1.47 1.35L5.41 20z\"/>\n",
       "  </svg>\n",
       "      </button>\n",
       "      \n",
       "  <style>\n",
       "    .colab-df-container {\n",
       "      display:flex;\n",
       "      flex-wrap:wrap;\n",
       "      gap: 12px;\n",
       "    }\n",
       "\n",
       "    .colab-df-convert {\n",
       "      background-color: #E8F0FE;\n",
       "      border: none;\n",
       "      border-radius: 50%;\n",
       "      cursor: pointer;\n",
       "      display: none;\n",
       "      fill: #1967D2;\n",
       "      height: 32px;\n",
       "      padding: 0 0 0 0;\n",
       "      width: 32px;\n",
       "    }\n",
       "\n",
       "    .colab-df-convert:hover {\n",
       "      background-color: #E2EBFA;\n",
       "      box-shadow: 0px 1px 2px rgba(60, 64, 67, 0.3), 0px 1px 3px 1px rgba(60, 64, 67, 0.15);\n",
       "      fill: #174EA6;\n",
       "    }\n",
       "\n",
       "    [theme=dark] .colab-df-convert {\n",
       "      background-color: #3B4455;\n",
       "      fill: #D2E3FC;\n",
       "    }\n",
       "\n",
       "    [theme=dark] .colab-df-convert:hover {\n",
       "      background-color: #434B5C;\n",
       "      box-shadow: 0px 1px 3px 1px rgba(0, 0, 0, 0.15);\n",
       "      filter: drop-shadow(0px 1px 2px rgba(0, 0, 0, 0.3));\n",
       "      fill: #FFFFFF;\n",
       "    }\n",
       "  </style>\n",
       "\n",
       "      <script>\n",
       "        const buttonEl =\n",
       "          document.querySelector('#df-9a396fd5-b254-4191-a522-dde46581bf3e button.colab-df-convert');\n",
       "        buttonEl.style.display =\n",
       "          google.colab.kernel.accessAllowed ? 'block' : 'none';\n",
       "\n",
       "        async function convertToInteractive(key) {\n",
       "          const element = document.querySelector('#df-9a396fd5-b254-4191-a522-dde46581bf3e');\n",
       "          const dataTable =\n",
       "            await google.colab.kernel.invokeFunction('convertToInteractive',\n",
       "                                                     [key], {});\n",
       "          if (!dataTable) return;\n",
       "\n",
       "          const docLinkHtml = 'Like what you see? Visit the ' +\n",
       "            '<a target=\"_blank\" href=https://colab.research.google.com/notebooks/data_table.ipynb>data table notebook</a>'\n",
       "            + ' to learn more about interactive tables.';\n",
       "          element.innerHTML = '';\n",
       "          dataTable['output_type'] = 'display_data';\n",
       "          await google.colab.output.renderOutput(dataTable, element);\n",
       "          const docLink = document.createElement('div');\n",
       "          docLink.innerHTML = docLinkHtml;\n",
       "          element.appendChild(docLink);\n",
       "        }\n",
       "      </script>\n",
       "    </div>\n",
       "  </div>\n",
       "  "
      ],
      "text/plain": [
       "   Gender  Age  Driving_License  Previously_Insured Vehicle_Age  \\\n",
       "0    Male   44                1                   0   > 2 Years   \n",
       "1    Male   76                1                   0    1-2 Year   \n",
       "2    Male   47                1                   0   > 2 Years   \n",
       "3    Male   21                1                   1    < 1 Year   \n",
       "4  Female   29                1                   1    < 1 Year   \n",
       "\n",
       "  Vehicle_Damage  Annual_Premium  Vintage  Response  \n",
       "0            Yes         40454.0      217         1  \n",
       "1             No         33536.0      183         0  \n",
       "2            Yes         38294.0       27         1  \n",
       "3             No         28619.0      203         0  \n",
       "4             No         27496.0       39         0  "
      ]
     },
     "execution_count": 101,
     "metadata": {},
     "output_type": "execute_result"
    }
   ],
   "source": [
    "#Let's take a look at the data after dropping the columns \n",
    "df.head()"
   ]
  },
  {
   "cell_type": "code",
   "execution_count": null,
   "metadata": {
    "colab": {
     "base_uri": "https://localhost:8080/"
    },
    "id": "BT9lw6JRF-4A",
    "outputId": "8eda3f8d-97fc-4e52-8074-d7f0e9465463"
   },
   "outputs": [
    {
     "data": {
      "text/plain": [
       "0    334399\n",
       "1     46710\n",
       "Name: Response, dtype: int64"
      ]
     },
     "execution_count": 102,
     "metadata": {},
     "output_type": "execute_result"
    }
   ],
   "source": [
    "df['Response'].value_counts()"
   ]
  },
  {
   "cell_type": "markdown",
   "metadata": {
    "id": "GF8Ens_Soomf"
   },
   "source": [
    "## ***3. Data Vizualization, Storytelling & Experimenting with charts : Understand the relationships between variables***"
   ]
  },
  {
   "cell_type": "code",
   "execution_count": null,
   "metadata": {
    "colab": {
     "base_uri": "https://localhost:8080/",
     "height": 355
    },
    "id": "gvEMJKgoGGNl",
    "outputId": "eabc8550-1eba-4d99-baca-cf4e40fd99fa"
   },
   "outputs": [
    {
     "data": {
      "image/png": "[encoded data removed]",
      "text/plain": [
       "<Figure size 576x360 with 1 Axes>"
      ]
     },
     "metadata": {},
     "output_type": "display_data"
    }
   ],
   "source": [
    "plt.figure(figsize = (8,5))\n",
    "sns.countplot(data = df , x = 'Response')\n",
    "plt.xlabel('Response of Customer')\n",
    "plt.ylabel('Count of Response')\n",
    "plt.title('Response Count Distribution')\n",
    "plt.show()"
   ]
  },
  {
   "cell_type": "markdown",
   "metadata": {
    "id": "azX1PEddq_20"
   },
   "source": [
    "##### 1. Why did you pick the specific chart?"
   ]
  },
  {
   "cell_type": "markdown",
   "metadata": {
    "id": "QTXVnJ-fq_20"
   },
   "source": [
    "Show the counts of observations in each categorical bin using bars. A count plot can be thought of as a histogram across a categorical, instead of quantitative, variable."
   ]
  },
  {
   "cell_type": "markdown",
   "metadata": {
    "id": "iyKleWeyq_20"
   },
   "source": [
    "##### 2. What is/are the insight(s) found from the chart?"
   ]
  },
  {
   "cell_type": "markdown",
   "metadata": {
    "id": "DwesNe8zq_21"
   },
   "source": [
    "- **As we know, that in \"Response\" column 1 shows the customers who are intersted in vehicle insurance whereas 0 indicates the customers who aren't interested in vehicle insurance.** \n",
    "- **From the above chart we can clearly see that very less number of customers interested in vehicle insurance.** "
   ]
  },
  {
   "cell_type": "markdown",
   "metadata": {
    "id": "8-UX51ofq_21"
   },
   "source": [
    "##### 3. Will the gained insights help creating a positive business impact? \n",
    "Are there any insights that lead to negative growth? Justify with specific reason."
   ]
  },
  {
   "cell_type": "code",
   "execution_count": null,
   "metadata": {
    "colab": {
     "base_uri": "https://localhost:8080/",
     "height": 355
    },
    "id": "LFPrRqPfANi3",
    "outputId": "8c006c73-e04e-427e-a003-3327a3afafc8"
   },
   "outputs": [
    {
     "data": {
      "image/png": "[encoded data removed]",
      "text/plain": [
       "<Figure size 576x360 with 1 Axes>"
      ]
     },
     "metadata": {},
     "output_type": "display_data"
    }
   ],
   "source": [
    "plt.figure(figsize = (8,5))\n",
    "sns.countplot(data = df , x = 'Driving_License')\n",
    "plt.xlabel('Driving_License availability of Customer')\n",
    "plt.ylabel('Count of Driving_License availability')\n",
    "plt.title('Driving_License availability Count Distribution')\n",
    "plt.show()"
   ]
  },
  {
   "cell_type": "code",
   "execution_count": null,
   "metadata": {
    "colab": {
     "base_uri": "https://localhost:8080/"
    },
    "id": "b0oltYcyDneA",
    "outputId": "fc8e9ef4-286e-49d6-f0a0-f72eda325c56"
   },
   "outputs": [
    {
     "data": {
      "text/plain": [
       "1    380297\n",
       "0       812\n",
       "Name: Driving_License, dtype: int64"
      ]
     },
     "execution_count": 105,
     "metadata": {},
     "output_type": "execute_result"
    }
   ],
   "source": [
    "df['Driving_License'].value_counts()"
   ]
  },
  {
   "cell_type": "markdown",
   "metadata": {
    "id": "1kQL6B6xDAnd"
   },
   "source": [
    "##### 1. Why did you pick the specific chart?"
   ]
  },
  {
   "cell_type": "markdown",
   "metadata": {
    "id": "S49P2WhEDAnd"
   },
   "source": [
    "Show the counts of observations in each categorical bin using bars. A count plot can be thought of as a histogram across a categorical, instead of quantitative, variable."
   ]
  },
  {
   "cell_type": "markdown",
   "metadata": {
    "id": "meSMQ95KDAne"
   },
   "source": [
    "##### 2. What is/are the insight(s) found from the chart?"
   ]
  },
  {
   "cell_type": "markdown",
   "metadata": {
    "id": "zPAisVEuDAne"
   },
   "source": [
    "- **From the above chart we can clearly see that very less number customers who don't have driving license which is nearly about 800+ customers.** "
   ]
  },
  {
   "cell_type": "markdown",
   "metadata": {
    "id": "OjJisf5YDAne"
   },
   "source": [
    "##### 3. Will the gained insights help creating a positive business impact? \n",
    "Are there any insights that lead to negative growth? Justify with specific reason."
   ]
  },
  {
   "cell_type": "code",
   "execution_count": null,
   "metadata": {
    "colab": {
     "base_uri": "https://localhost:8080/",
     "height": 355
    },
    "id": "3_sgS1UQC1D5",
    "outputId": "ccaebfdb-b541-42f2-b87c-e0ab0ac99b1e"
   },
   "outputs": [
    {
     "data": {
      "image/png": "[encoded data removed]",
      "text/plain": [
       "<Figure size 576x360 with 1 Axes>"
      ]
     },
     "metadata": {},
     "output_type": "display_data"
    }
   ],
   "source": [
    "plt.figure(figsize = (8,5))\n",
    "sns.countplot(data = df , x = 'Previously_Insured')\n",
    "plt.xlabel('Previously_Insured Customer')\n",
    "plt.ylabel('Count of Previously_Insured Customer')\n",
    "plt.title('Previously_Insured Customer Count Distribution')\n",
    "plt.show()"
   ]
  },
  {
   "cell_type": "markdown",
   "metadata": {
    "id": "_B_IhMBWERx9"
   },
   "source": [
    "##### 1. Why did you pick the specific chart?"
   ]
  },
  {
   "cell_type": "markdown",
   "metadata": {
    "id": "QFt1zu8qERx9"
   },
   "source": [
    "Show the counts of observations in each categorical bin using bars. A count plot can be thought of as a histogram across a categorical, instead of quantitative, variable."
   ]
  },
  {
   "cell_type": "markdown",
   "metadata": {
    "id": "YF62sF_WERx9"
   },
   "source": [
    "##### 2. What is/are the insight(s) found from the chart?"
   ]
  },
  {
   "cell_type": "markdown",
   "metadata": {
    "id": "xCdg87TjERx9"
   },
   "source": [
    "- **From the above chart we can clearly see that the distribution of previously insured customers is very different from the customer response distribution and it is a big concerns for us as it's clearly stating that customers aren't happy by the previous services.** "
   ]
  },
  {
   "cell_type": "markdown",
   "metadata": {
    "id": "X85v7gB-ERx9"
   },
   "source": [
    "##### 3. Will the gained insights help creating a positive business impact? \n",
    "Are there any insights that lead to negative growth? Justify with specific reason."
   ]
  },
  {
   "cell_type": "code",
   "execution_count": null,
   "metadata": {
    "colab": {
     "base_uri": "https://localhost:8080/",
     "height": 355
    },
    "id": "FXdbrh2fEI25",
    "outputId": "266a8468-85e7-425b-a104-da804590ace8"
   },
   "outputs": [
    {
     "data": {
      "image/png": "[encoded data removed]",
      "text/plain": [
       "<Figure size 576x360 with 1 Axes>"
      ]
     },
     "metadata": {},
     "output_type": "display_data"
    }
   ],
   "source": [
    "plt.figure(figsize = (8,5))\n",
    "sns.countplot(data = df , x = 'Gender')\n",
    "plt.xlabel('Gender of Customer')\n",
    "plt.ylabel('Count of Gender')\n",
    "plt.title('Gender Count Distribution')\n",
    "plt.show()"
   ]
  },
  {
   "cell_type": "markdown",
   "metadata": {
    "id": "U0GViZvCFhuQ"
   },
   "source": [
    "##### 1. Why did you pick the specific chart?"
   ]
  },
  {
   "cell_type": "markdown",
   "metadata": {
    "id": "Bflj7b1dFhuR"
   },
   "source": [
    "Show the counts of observations in each categorical bin using bars. A count plot can be thought of as a histogram across a categorical, instead of quantitative, variable."
   ]
  },
  {
   "cell_type": "markdown",
   "metadata": {
    "id": "Jf4ODSEkFhuR"
   },
   "source": [
    "##### 2. What is/are the insight(s) found from the chart?"
   ]
  },
  {
   "cell_type": "markdown",
   "metadata": {
    "id": "b_kB325eFhuR"
   },
   "source": [
    "- **From the chart we can say that the male customer count is more than feamle customer count.** "
   ]
  },
  {
   "cell_type": "markdown",
   "metadata": {
    "id": "VN0ZiaTBFhuS"
   },
   "source": [
    "##### 3. Will the gained insights help creating a positive business impact? \n",
    "Are there any insights that lead to negative growth? Justify with specific reason."
   ]
  },
  {
   "cell_type": "code",
   "execution_count": null,
   "metadata": {
    "colab": {
     "base_uri": "https://localhost:8080/",
     "height": 355
    },
    "id": "lSWbe_-cFyNc",
    "outputId": "f573d725-a500-4d23-a93f-3182b081f454"
   },
   "outputs": [
    {
     "data": {
      "image/png": "[encoded data removed]",
      "text/plain": [
       "<Figure size 576x360 with 1 Axes>"
      ]
     },
     "metadata": {},
     "output_type": "display_data"
    }
   ],
   "source": [
    "fig = plt.figure(figsize = (8,5))\n",
    "ax = fig.gca()\n",
    "ax.axvline(df['Age'].mean(), color='magenta', linestyle='dashed', linewidth=2)\n",
    "ax.axvline(df['Age'].median(), color='cyan', linestyle='dashed', linewidth=2)\n",
    "sns.histplot(data = df , x = 'Age')\n",
    "plt.title('Age Distribution')\n",
    "plt.show()"
   ]
  },
  {
   "cell_type": "markdown",
   "metadata": {
    "id": "uCRLXN6pIG1Q"
   },
   "source": [
    "##### 1. Why did you pick the specific chart?"
   ]
  },
  {
   "cell_type": "markdown",
   "metadata": {
    "id": "6FxFo1Kat0FZ"
   },
   "source": [
    "- **A histogram is an excellent tool for visualizing and understanding the probabilistic distribution of numerical data or image data that is intuitively understood by almost everyone. Python has a lot of different options for building and plotting histograms.**\n"
   ]
  },
  {
   "cell_type": "markdown",
   "metadata": {
    "id": "eb4e07xgIG1W"
   },
   "source": [
    "##### 2. What is/are the insight(s) found from the chart?"
   ]
  },
  {
   "cell_type": "markdown",
   "metadata": {
    "id": "idSrvObDIG1W"
   },
   "source": [
    "- **The histograms clearly shows that the distribution is right skewed.**\n",
    "- **What is right skewed data ?** - When the chart's tail is longer on its right side and its peak veers to the left. \n",
    "- **It's indication that we have outliers so we will see box plot for age column to get the bettre idea.**"
   ]
  },
  {
   "cell_type": "markdown",
   "metadata": {
    "id": "pr_qrR4mIG1W"
   },
   "source": [
    "##### 3. Will the gained insights help creating a positive business impact? \n",
    "Are there any insights that lead to negative growth? Justify with specific reason."
   ]
  },
  {
   "cell_type": "code",
   "execution_count": null,
   "metadata": {
    "colab": {
     "base_uri": "https://localhost:8080/",
     "height": 448
    },
    "id": "eXxt1qNrI6Gq",
    "outputId": "721fcb5b-3dd9-4b90-f595-460bf59ddc93"
   },
   "outputs": [
    {
     "data": {
      "image/png": "[encoded data removed]",
      "text/plain": [
       "<Figure size 648x504 with 1 Axes>"
      ]
     },
     "metadata": {},
     "output_type": "display_data"
    }
   ],
   "source": [
    "plt.figure(figsize = (9,7))\n",
    "sns.boxplot(data = df , x = 'Age')\n",
    "plt.show()"
   ]
  },
  {
   "cell_type": "markdown",
   "metadata": {
    "id": "1mAZaWtHJ6EK"
   },
   "source": [
    "##### 1. Why did you pick the specific chart?"
   ]
  },
  {
   "cell_type": "markdown",
   "metadata": {
    "id": "lKlxjcUKJ6EL"
   },
   "source": [
    "- **Box plots are used to show distributions of numeric data values, especially when you want to compare them between multiple groups. They are built to provide high-level information at a glance, offering general information about a group of data's symmetry, skew, variance, and outliers..**\n"
   ]
  },
  {
   "cell_type": "markdown",
   "metadata": {
    "id": "QjKB8CMKJ6EL"
   },
   "source": [
    "##### 2. What is/are the insight(s) found from the chart?"
   ]
  },
  {
   "cell_type": "markdown",
   "metadata": {
    "id": "cpRtpQhUJ6EM"
   },
   "source": [
    "- **As we can clearly see that there are no outliers present in the Age column and the mean and median values are also so very close so no there is no need to worry.**"
   ]
  },
  {
   "cell_type": "markdown",
   "metadata": {
    "id": "p5-lnaHEJ6EM"
   },
   "source": [
    "##### 3. Will the gained insights help creating a positive business impact? \n",
    "Are there any insights that lead to negative growth? Justify with specific reason."
   ]
  },
  {
   "cell_type": "code",
   "execution_count": null,
   "metadata": {
    "colab": {
     "base_uri": "https://localhost:8080/",
     "height": 464
    },
    "id": "KctlnefPKVbq",
    "outputId": "34a373c0-f768-46ec-cc1e-75259c55b87c"
   },
   "outputs": [
    {
     "data": {
      "image/png": "[encoded data removed]",
      "text/plain": [
       "<Figure size 1080x504 with 1 Axes>"
      ]
     },
     "metadata": {},
     "output_type": "display_data"
    }
   ],
   "source": [
    "fig = plt.figure(figsize = (15,7))\n",
    "ax = fig.gca()\n",
    "ax.axvline(df['Annual_Premium'].mean(), color='magenta', linestyle='dashed', linewidth=2)\n",
    "ax.axvline(df['Annual_Premium'].median(), color='cyan', linestyle='dashed', linewidth=2)\n",
    "sns.histplot(data = df , x = 'Annual_Premium')\n",
    "plt.title('Annual_Premium Distribution')\n",
    "plt.show()"
   ]
  },
  {
   "cell_type": "markdown",
   "metadata": {
    "id": "ZzFsGkhqKuFD"
   },
   "source": [
    "##### 1. Why did you pick the specific chart?"
   ]
  },
  {
   "cell_type": "markdown",
   "metadata": {
    "id": "-pTIWgqxKuFE"
   },
   "source": [
    "- **A histogram is an excellent tool for visualizing and understanding the probabilistic distribution of numerical data or image data that is intuitively understood by almost everyone. Python has a lot of different options for building and plotting histograms.**\n"
   ]
  },
  {
   "cell_type": "markdown",
   "metadata": {
    "id": "hL0IcL1WKuFE"
   },
   "source": [
    "##### 2. What is/are the insight(s) found from the chart?"
   ]
  },
  {
   "cell_type": "markdown",
   "metadata": {
    "id": "aMYIMIhOKuFF"
   },
   "source": [
    "- **From the histogram we can see that the distribution nearly normal distribution but we have to find whether the outliers are present or not so we will plot boxplot.**"
   ]
  },
  {
   "cell_type": "markdown",
   "metadata": {
    "id": "10JTDJjcKuFF"
   },
   "source": [
    "##### 3. Will the gained insights help creating a positive business impact? \n",
    "Are there any insights that lead to negative growth? Justify with specific reason."
   ]
  },
  {
   "cell_type": "code",
   "execution_count": null,
   "metadata": {
    "colab": {
     "base_uri": "https://localhost:8080/",
     "height": 448
    },
    "id": "p7Rg33rMLAfN",
    "outputId": "5d8c51ea-10e4-40ae-b314-974d0f2c366d"
   },
   "outputs": [
    {
     "data": {
      "image/png": "[encoded data removed]",
      "text/plain": [
       "<Figure size 648x504 with 1 Axes>"
      ]
     },
     "metadata": {},
     "output_type": "display_data"
    }
   ],
   "source": [
    "plt.figure(figsize = (9,7))\n",
    "sns.boxplot(data = df , x = 'Annual_Premium')\n",
    "plt.show()"
   ]
  },
  {
   "cell_type": "markdown",
   "metadata": {
    "id": "chLxRL-bLIaD"
   },
   "source": [
    "##### 1. Why did you pick the specific chart?"
   ]
  },
  {
   "cell_type": "markdown",
   "metadata": {
    "id": "Bz_tjglxLIaE"
   },
   "source": [
    "- **Box plots are used to show distributions of numeric data values, especially when you want to compare them between multiple groups. They are built to provide high-level information at a glance, offering general information about a group of data's symmetry, skew, variance, and outliers..**\n"
   ]
  },
  {
   "cell_type": "markdown",
   "metadata": {
    "id": "VJZ3d_4ULIaF"
   },
   "source": [
    "##### 2. What is/are the insight(s) found from the chart?"
   ]
  },
  {
   "cell_type": "markdown",
   "metadata": {
    "id": "VaSKnvR5LIaF"
   },
   "source": [
    "- **As we can clearly see that there are outliers present in the Annual Premium column so we will remove them in the feature engineering section.**"
   ]
  },
  {
   "cell_type": "markdown",
   "metadata": {
    "id": "Whn_WDgALIaF"
   },
   "source": [
    "##### 3. Will the gained insights help creating a positive business impact? \n",
    "Are there any insights that lead to negative growth? Justify with specific reason."
   ]
  },
  {
   "cell_type": "code",
   "execution_count": null,
   "metadata": {
    "colab": {
     "base_uri": "https://localhost:8080/",
     "height": 464
    },
    "id": "hcDm1TyyLpgz",
    "outputId": "141ae6c8-2795-458e-98ad-3cc1022bb289"
   },
   "outputs": [
    {
     "data": {
      "image/png": "[encoded data removed]",
      "text/plain": [
       "<Figure size 1080x504 with 1 Axes>"
      ]
     },
     "metadata": {},
     "output_type": "display_data"
    }
   ],
   "source": [
    "fig = plt.figure(figsize = (15,7))\n",
    "ax = fig.gca()\n",
    "ax.axvline(df['Vintage'].mean(), color='magenta', linestyle='dashed', linewidth=2)\n",
    "ax.axvline(df['Vintage'].median(), color='cyan', linestyle='dashed', linewidth=2)\n",
    "sns.histplot(data = df , x = 'Vintage')\n",
    "plt.title('Vintage Distribution')\n",
    "plt.show()"
   ]
  },
  {
   "cell_type": "markdown",
   "metadata": {
    "id": "RbrV2c4XXCc9"
   },
   "source": [
    "##### 1. Why did you pick the specific chart?"
   ]
  },
  {
   "cell_type": "markdown",
   "metadata": {
    "id": "YINEYZ7vXCc-"
   },
   "source": [
    "- **A histogram is an excellent tool for visualizing and understanding the probabilistic distribution of numerical data or image data that is intuitively understood by almost everyone. Python has a lot of different options for building and plotting histograms.**\n"
   ]
  },
  {
   "cell_type": "markdown",
   "metadata": {
    "id": "RU5NL6hSXCc-"
   },
   "source": [
    "##### 2. What is/are the insight(s) found from the chart?"
   ]
  },
  {
   "cell_type": "markdown",
   "metadata": {
    "id": "mo6TIiTRXCc-"
   },
   "source": [
    "- **From the histogram we can see that the distribution nearly uniform.**"
   ]
  },
  {
   "cell_type": "markdown",
   "metadata": {
    "id": "lp_rydwhXCc_"
   },
   "source": [
    "##### 3. Will the gained insights help creating a positive business impact? \n",
    "Are there any insights that lead to negative growth? Justify with specific reason."
   ]
  },
  {
   "cell_type": "code",
   "execution_count": null,
   "metadata": {
    "colab": {
     "base_uri": "https://localhost:8080/",
     "height": 448
    },
    "id": "ovNDKd8lLsu3",
    "outputId": "67c5e9c2-4f0b-4702-ed63-36d48b3ce4c7"
   },
   "outputs": [
    {
     "data": {
      "image/png": "[encoded data removed]",
      "text/plain": [
       "<Figure size 648x504 with 1 Axes>"
      ]
     },
     "metadata": {},
     "output_type": "display_data"
    }
   ],
   "source": [
    "plt.figure(figsize = (9,7))\n",
    "sns.boxplot(data = df , x = 'Vintage')\n",
    "plt.show()"
   ]
  },
  {
   "cell_type": "markdown",
   "metadata": {
    "id": "IZnMPxMcexnw"
   },
   "source": [
    "##### 1. Why did you pick the specific chart?"
   ]
  },
  {
   "cell_type": "markdown",
   "metadata": {
    "id": "6qUOJoPTexn3"
   },
   "source": [
    "- **Box plots are used to show distributions of numeric data values, especially when you want to compare them between multiple groups. They are built to provide high-level information at a glance, offering general information about a group of data's symmetry, skew, variance, and outliers..**\n"
   ]
  },
  {
   "cell_type": "markdown",
   "metadata": {
    "id": "PaRhBLJ6exn4"
   },
   "source": [
    "##### 2. What is/are the insight(s) found from the chart?"
   ]
  },
  {
   "cell_type": "markdown",
   "metadata": {
    "id": "cM7rUXoxexn4"
   },
   "source": [
    "- **As we can clearly see that there are no outliers present in the vintage column.**"
   ]
  },
  {
   "cell_type": "markdown",
   "metadata": {
    "id": "Nf-v6OeAexn4"
   },
   "source": [
    "##### 3. Will the gained insights help creating a positive business impact? \n",
    "Are there any insights that lead to negative growth? Justify with specific reason."
   ]
  },
  {
   "cell_type": "markdown",
   "metadata": {
    "id": "yLjJCtPM0KBk"
   },
   "source": [
    "## ***4. Feature Engineering & Data Pre-processing***"
   ]
  },
  {
   "cell_type": "markdown",
   "metadata": {
    "id": "id1riN9m0vUs"
   },
   "source": [
    "### 1. Handling Outliers"
   ]
  },
  {
   "cell_type": "code",
   "execution_count": null,
   "metadata": {
    "colab": {
     "base_uri": "https://localhost:8080/"
    },
    "id": "i6iI1Zd4oxS4",
    "outputId": "8f998829-0d48-4342-a971-cbf7e316d2b4"
   },
   "outputs": [
    {
     "name": "stdout",
     "output_type": "stream",
     "text": [
      "The q1, q3 and median values are 24405.0,39400.0,31669.0 resp.\n",
      "The iqr value is 14995.0\n",
      "The upper and lower fence values are 61892.5 and 1912.5 resp.\n"
     ]
    }
   ],
   "source": [
    "#Finding out the values of 1st and 3rd quantile\n",
    "q1 = df['Annual_Premium'].quantile(0.25)\n",
    "q3 = df['Annual_Premium'].quantile(0.75)\n",
    "median = df['Annual_Premium'].quantile(0.5)\n",
    "\n",
    "print(f'The q1, q3 and median values are {q1},{q3},{median} resp.')\n",
    "\n",
    "#Finding out the interquantile range\n",
    "iqr = q3 - q1\n",
    "print(f'The iqr value is {iqr}')\n",
    "\n",
    "#FInding out the upper and lower fence values\n",
    "upper = q3 + 1.5*iqr\n",
    "lower = q1 - 1.5*iqr\n",
    "print(f'The upper and lower fence values are {upper} and {lower} resp.')"
   ]
  },
  {
   "cell_type": "code",
   "execution_count": null,
   "metadata": {
    "id": "dn7fXgsBwSWE"
   },
   "outputs": [],
   "source": [
    "#We will keep the rows with values within Lower and Upper fence by using loc function\n",
    "df = df.loc[(df['Annual_Premium'] <= upper) &\n",
    "        (df['Annual_Premium'] >= lower)]"
   ]
  },
  {
   "cell_type": "code",
   "execution_count": null,
   "metadata": {
    "colab": {
     "base_uri": "https://localhost:8080/",
     "height": 448
    },
    "id": "xKvni_yIwEXA",
    "outputId": "8370149a-5609-4e04-9595-7bc237dcfea7"
   },
   "outputs": [
    {
     "data": {
      "image/png": "[encoded data removed]",
      "text/plain": [
       "<Figure size 648x504 with 1 Axes>"
      ]
     },
     "metadata": {},
     "output_type": "display_data"
    }
   ],
   "source": [
    "#Plotting the Annual_Premium column after removing otliers\n",
    "plt.figure(figsize = (9,7))\n",
    "sns.boxplot(data = df , x = 'Annual_Premium')\n",
    "plt.show()"
   ]
  },
  {
   "cell_type": "markdown",
   "metadata": {
    "id": "89xtkJwZ18nB"
   },
   "source": [
    "### 2. Changing DataTypes"
   ]
  },
  {
   "cell_type": "code",
   "execution_count": null,
   "metadata": {
    "id": "gSLfYQ-xxLWC"
   },
   "outputs": [],
   "source": [
    "df[\"Gender\"] =df[\"Gender\"].replace({\"Male\":1, \"Female\":0})\n",
    "df[\"Vehicle_Damage\"] =df[\"Vehicle_Damage\"].replace({\"Yes\":1, \"No\":0})\n",
    "df[\"Vehicle_Age\"] =df[\"Vehicle_Age\"].replace({\"< 1 Year\":0, \"1-2 Year\":1,\"> 2 Years\":2})"
   ]
  },
  {
   "cell_type": "code",
   "execution_count": null,
   "metadata": {
    "id": "UY764zcJx_0c"
   },
   "outputs": [],
   "source": [
    "#Change the int64 column into catagory column\n",
    "cols=['Gender','Vehicle_Damage','Vehicle_Age']\n",
    "for col in cols:\n",
    "  df[col]=df[col].astype('category')"
   ]
  },
  {
   "cell_type": "code",
   "execution_count": null,
   "metadata": {
    "colab": {
     "base_uri": "https://localhost:8080/"
    },
    "id": "yilZICUOyyKo",
    "outputId": "27d32ef7-62de-4b61-e560-2e9ba59cf481"
   },
   "outputs": [
    {
     "name": "stdout",
     "output_type": "stream",
     "text": [
      "<class 'pandas.core.frame.DataFrame'>\n",
      "Int64Index: 370789 entries, 0 to 381108\n",
      "Data columns (total 9 columns):\n",
      " #   Column              Non-Null Count   Dtype   \n",
      "---  ------              --------------   -----   \n",
      " 0   Gender              370789 non-null  category\n",
      " 1   Age                 370789 non-null  int64   \n",
      " 2   Driving_License     370789 non-null  int64   \n",
      " 3   Previously_Insured  370789 non-null  int64   \n",
      " 4   Vehicle_Age         370789 non-null  category\n",
      " 5   Vehicle_Damage      370789 non-null  category\n",
      " 6   Annual_Premium      370789 non-null  float64 \n",
      " 7   Vintage             370789 non-null  int64   \n",
      " 8   Response            370789 non-null  int64   \n",
      "dtypes: category(3), float64(1), int64(5)\n",
      "memory usage: 20.9 MB\n"
     ]
    }
   ],
   "source": [
    "df.info()"
   ]
  },
  {
   "cell_type": "markdown",
   "metadata": {
    "id": "WXZ8lV6wzof1"
   },
   "source": [
    "### 3. Dropping Columns"
   ]
  },
  {
   "cell_type": "markdown",
   "metadata": {
    "id": "sxucS7HBzrbr"
   },
   "source": [
    "**From the EDA, we can see that the Driving_License column is very imbalanced and it'll not affect the output feature much so we will drop it and the vintage column is also showing uniform distribution so we will drop that column too.**"
   ]
  },
  {
   "cell_type": "code",
   "execution_count": null,
   "metadata": {
    "id": "W33UIjB1zqCS"
   },
   "outputs": [],
   "source": [
    "df.drop(['Driving_License', 'Vintage'], axis = 1, inplace = True)"
   ]
  },
  {
   "cell_type": "code",
   "execution_count": null,
   "metadata": {
    "colab": {
     "base_uri": "https://localhost:8080/",
     "height": 206
    },
    "id": "3MorR5Bn05vW",
    "outputId": "0e7966f2-8bea-46e8-987a-c1fa1ca74cf5"
   },
   "outputs": [
    {
     "data": {
      "text/html": [
       "\n",
       "  <div id=\"df-78b971b0-444f-4f6b-9649-ac2f6080e091\">\n",
       "    <div class=\"colab-df-container\">\n",
       "      <div>\n",
       "<style scoped>\n",
       "    .dataframe tbody tr th:only-of-type {\n",
       "        vertical-align: middle;\n",
       "    }\n",
       "\n",
       "    .dataframe tbody tr th {\n",
       "        vertical-align: top;\n",
       "    }\n",
       "\n",
       "    .dataframe thead th {\n",
       "        text-align: right;\n",
       "    }\n",
       "</style>\n",
       "<table border=\"1\" class=\"dataframe\">\n",
       "  <thead>\n",
       "    <tr style=\"text-align: right;\">\n",
       "      <th></th>\n",
       "      <th>Age</th>\n",
       "      <th>Previously_Insured</th>\n",
       "      <th>Annual_Premium</th>\n",
       "      <th>Response</th>\n",
       "      <th>Vehicle_Age_0</th>\n",
       "      <th>Vehicle_Age_1</th>\n",
       "      <th>Vehicle_Age_2</th>\n",
       "      <th>Vehicle_Damage_0</th>\n",
       "      <th>Vehicle_Damage_1</th>\n",
       "      <th>Gender_0</th>\n",
       "      <th>Gender_1</th>\n",
       "    </tr>\n",
       "  </thead>\n",
       "  <tbody>\n",
       "    <tr>\n",
       "      <th>0</th>\n",
       "      <td>44</td>\n",
       "      <td>0</td>\n",
       "      <td>40454.0</td>\n",
       "      <td>1</td>\n",
       "      <td>0</td>\n",
       "      <td>0</td>\n",
       "      <td>1</td>\n",
       "      <td>0</td>\n",
       "      <td>1</td>\n",
       "      <td>0</td>\n",
       "      <td>1</td>\n",
       "    </tr>\n",
       "    <tr>\n",
       "      <th>1</th>\n",
       "      <td>76</td>\n",
       "      <td>0</td>\n",
       "      <td>33536.0</td>\n",
       "      <td>0</td>\n",
       "      <td>0</td>\n",
       "      <td>1</td>\n",
       "      <td>0</td>\n",
       "      <td>1</td>\n",
       "      <td>0</td>\n",
       "      <td>0</td>\n",
       "      <td>1</td>\n",
       "    </tr>\n",
       "    <tr>\n",
       "      <th>2</th>\n",
       "      <td>47</td>\n",
       "      <td>0</td>\n",
       "      <td>38294.0</td>\n",
       "      <td>1</td>\n",
       "      <td>0</td>\n",
       "      <td>0</td>\n",
       "      <td>1</td>\n",
       "      <td>0</td>\n",
       "      <td>1</td>\n",
       "      <td>0</td>\n",
       "      <td>1</td>\n",
       "    </tr>\n",
       "    <tr>\n",
       "      <th>3</th>\n",
       "      <td>21</td>\n",
       "      <td>1</td>\n",
       "      <td>28619.0</td>\n",
       "      <td>0</td>\n",
       "      <td>1</td>\n",
       "      <td>0</td>\n",
       "      <td>0</td>\n",
       "      <td>1</td>\n",
       "      <td>0</td>\n",
       "      <td>0</td>\n",
       "      <td>1</td>\n",
       "    </tr>\n",
       "    <tr>\n",
       "      <th>4</th>\n",
       "      <td>29</td>\n",
       "      <td>1</td>\n",
       "      <td>27496.0</td>\n",
       "      <td>0</td>\n",
       "      <td>1</td>\n",
       "      <td>0</td>\n",
       "      <td>0</td>\n",
       "      <td>1</td>\n",
       "      <td>0</td>\n",
       "      <td>1</td>\n",
       "      <td>0</td>\n",
       "    </tr>\n",
       "  </tbody>\n",
       "</table>\n",
       "</div>\n",
       "      <button class=\"colab-df-convert\" onclick=\"convertToInteractive('df-78b971b0-444f-4f6b-9649-ac2f6080e091')\"\n",
       "              title=\"Convert this dataframe to an interactive table.\"\n",
       "              style=\"display:none;\">\n",
       "        \n",
       "  <svg xmlns=\"http://www.w3.org/2000/svg\" height=\"24px\"viewBox=\"0 0 24 24\"\n",
       "       width=\"24px\">\n",
       "    <path d=\"M0 0h24v24H0V0z\" fill=\"none\"/>\n",
       "    <path d=\"M18.56 5.44l.94 2.06.94-2.06 2.06-.94-2.06-.94-.94-2.06-.94 2.06-2.06.94zm-11 1L8.5 8.5l.94-2.06 2.06-.94-2.06-.94L8.5 2.5l-.94 2.06-2.06.94zm10 10l.94 2.06.94-2.06 2.06-.94-2.06-.94-.94-2.06-.94 2.06-2.06.94z\"/><path d=\"M17.41 7.96l-1.37-1.37c-.4-.4-.92-.59-1.43-.59-.52 0-1.04.2-1.43.59L10.3 9.45l-7.72 7.72c-.78.78-.78 2.05 0 2.83L4 21.41c.39.39.9.59 1.41.59.51 0 1.02-.2 1.41-.59l7.78-7.78 2.81-2.81c.8-.78.8-2.07 0-2.86zM5.41 20L4 18.59l7.72-7.72 1.47 1.35L5.41 20z\"/>\n",
       "  </svg>\n",
       "      </button>\n",
       "      \n",
       "  <style>\n",
       "    .colab-df-container {\n",
       "      display:flex;\n",
       "      flex-wrap:wrap;\n",
       "      gap: 12px;\n",
       "    }\n",
       "\n",
       "    .colab-df-convert {\n",
       "      background-color: #E8F0FE;\n",
       "      border: none;\n",
       "      border-radius: 50%;\n",
       "      cursor: pointer;\n",
       "      display: none;\n",
       "      fill: #1967D2;\n",
       "      height: 32px;\n",
       "      padding: 0 0 0 0;\n",
       "      width: 32px;\n",
       "    }\n",
       "\n",
       "    .colab-df-convert:hover {\n",
       "      background-color: #E2EBFA;\n",
       "      box-shadow: 0px 1px 2px rgba(60, 64, 67, 0.3), 0px 1px 3px 1px rgba(60, 64, 67, 0.15);\n",
       "      fill: #174EA6;\n",
       "    }\n",
       "\n",
       "    [theme=dark] .colab-df-convert {\n",
       "      background-color: #3B4455;\n",
       "      fill: #D2E3FC;\n",
       "    }\n",
       "\n",
       "    [theme=dark] .colab-df-convert:hover {\n",
       "      background-color: #434B5C;\n",
       "      box-shadow: 0px 1px 3px 1px rgba(0, 0, 0, 0.15);\n",
       "      filter: drop-shadow(0px 1px 2px rgba(0, 0, 0, 0.3));\n",
       "      fill: #FFFFFF;\n",
       "    }\n",
       "  </style>\n",
       "\n",
       "      <script>\n",
       "        const buttonEl =\n",
       "          document.querySelector('#df-78b971b0-444f-4f6b-9649-ac2f6080e091 button.colab-df-convert');\n",
       "        buttonEl.style.display =\n",
       "          google.colab.kernel.accessAllowed ? 'block' : 'none';\n",
       "\n",
       "        async function convertToInteractive(key) {\n",
       "          const element = document.querySelector('#df-78b971b0-444f-4f6b-9649-ac2f6080e091');\n",
       "          const dataTable =\n",
       "            await google.colab.kernel.invokeFunction('convertToInteractive',\n",
       "                                                     [key], {});\n",
       "          if (!dataTable) return;\n",
       "\n",
       "          const docLinkHtml = 'Like what you see? Visit the ' +\n",
       "            '<a target=\"_blank\" href=https://colab.research.google.com/notebooks/data_table.ipynb>data table notebook</a>'\n",
       "            + ' to learn more about interactive tables.';\n",
       "          element.innerHTML = '';\n",
       "          dataTable['output_type'] = 'display_data';\n",
       "          await google.colab.output.renderOutput(dataTable, element);\n",
       "          const docLink = document.createElement('div');\n",
       "          docLink.innerHTML = docLinkHtml;\n",
       "          element.appendChild(docLink);\n",
       "        }\n",
       "      </script>\n",
       "    </div>\n",
       "  </div>\n",
       "  "
      ],
      "text/plain": [
       "   Age  Previously_Insured  Annual_Premium  Response  Vehicle_Age_0  \\\n",
       "0   44                   0         40454.0         1              0   \n",
       "1   76                   0         33536.0         0              0   \n",
       "2   47                   0         38294.0         1              0   \n",
       "3   21                   1         28619.0         0              1   \n",
       "4   29                   1         27496.0         0              1   \n",
       "\n",
       "   Vehicle_Age_1  Vehicle_Age_2  Vehicle_Damage_0  Vehicle_Damage_1  Gender_0  \\\n",
       "0              0              1                 0                 1         0   \n",
       "1              1              0                 1                 0         0   \n",
       "2              0              1                 0                 1         0   \n",
       "3              0              0                 1                 0         0   \n",
       "4              0              0                 1                 0         1   \n",
       "\n",
       "   Gender_1  \n",
       "0         1  \n",
       "1         1  \n",
       "2         1  \n",
       "3         1  \n",
       "4         0  "
      ]
     },
     "execution_count": 121,
     "metadata": {},
     "output_type": "execute_result"
    }
   ],
   "source": [
    "# one hot encoding for categorical data\n",
    "df_copy = pd.get_dummies(df , columns=['Vehicle_Age', 'Vehicle_Damage', 'Gender' ])  \n",
    "df_copy.head()"
   ]
  },
  {
   "cell_type": "markdown",
   "metadata": {
    "id": "BhH2vgX9EjGr"
   },
   "source": [
    "### 4. Data Re-Sampling"
   ]
  },
  {
   "cell_type": "markdown",
   "metadata": {
    "id": "t9Sj6on74bvF"
   },
   "source": [
    "**As we know, our ouput column is quite imbalanced. So we need to apply sampling techniques to counter this situation.\n",
    "So there are certain techniques for data re-sampling namely such as oversampling and undersamplimng. It consists of removing samples from the majority class (under-sampling) and/or adding more examples from the minority class (over-sampling).\n",
    "Despite the advantage of balancing classes, these techniques also have their own weaknesses.**\n",
    "\n",
    "**The simplest implementation of over-sampling is to duplicate random records from the minority class, which can cause overfitting.**\n",
    "\n",
    "**In under-sampling, the simplest technique involves removing random records from the majority class, which can cause loss of information.\n",
    "There is also one technique which will be going to use called as Synthetic Minority Oversampling Technique (SMOTE). \n",
    "SMOTE (Synthetic Minority Oversampling Technique) works by randomly picking a point from the minority class and computing the k-nearest neighbors for this point. The synthetic points are added between the chosen point and its neighbors**\n",
    "\n",
    "**SMOTE algorithm works in 4 simple steps:**\n",
    "- Choose a minority class as the input vector\n",
    "- Find its k nearest neighbors (k_neighbors is specified as an argument in the SMOTE() function)\n",
    "- Choose one of these neighbors and place a synthetic point anywhere on the line joining the point under consideration and its chosen neighbor\n",
    "- Repeat the steps until data is balanced."
   ]
  },
  {
   "cell_type": "markdown",
   "metadata": {
    "id": "26N6vfxQnen6"
   },
   "source": [
    "![1_yRumRhn89acByodBz0H7oA.png](data:image/png;base64,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)"
   ]
  },
  {
   "cell_type": "code",
   "execution_count": null,
   "metadata": {
    "colab": {
     "base_uri": "https://localhost:8080/",
     "height": 206
    },
    "id": "6t__K-lpn_06",
    "outputId": "a3141012-aed7-4d71-9eaf-e48862227f11"
   },
   "outputs": [
    {
     "data": {
      "text/html": [
       "\n",
       "  <div id=\"df-7b4818c6-63cc-4692-90b0-97dd7d923bd5\">\n",
       "    <div class=\"colab-df-container\">\n",
       "      <div>\n",
       "<style scoped>\n",
       "    .dataframe tbody tr th:only-of-type {\n",
       "        vertical-align: middle;\n",
       "    }\n",
       "\n",
       "    .dataframe tbody tr th {\n",
       "        vertical-align: top;\n",
       "    }\n",
       "\n",
       "    .dataframe thead th {\n",
       "        text-align: right;\n",
       "    }\n",
       "</style>\n",
       "<table border=\"1\" class=\"dataframe\">\n",
       "  <thead>\n",
       "    <tr style=\"text-align: right;\">\n",
       "      <th></th>\n",
       "      <th>Age</th>\n",
       "      <th>Previously_Insured</th>\n",
       "      <th>Annual_Premium</th>\n",
       "      <th>Response</th>\n",
       "      <th>Vehicle_Age_0</th>\n",
       "      <th>Vehicle_Age_1</th>\n",
       "      <th>Vehicle_Age_2</th>\n",
       "      <th>Vehicle_Damage_0</th>\n",
       "      <th>Vehicle_Damage_1</th>\n",
       "      <th>Gender_0</th>\n",
       "      <th>Gender_1</th>\n",
       "    </tr>\n",
       "  </thead>\n",
       "  <tbody>\n",
       "    <tr>\n",
       "      <th>0</th>\n",
       "      <td>44</td>\n",
       "      <td>0</td>\n",
       "      <td>40454.0</td>\n",
       "      <td>1</td>\n",
       "      <td>0</td>\n",
       "      <td>0</td>\n",
       "      <td>1</td>\n",
       "      <td>0</td>\n",
       "      <td>1</td>\n",
       "      <td>0</td>\n",
       "      <td>1</td>\n",
       "    </tr>\n",
       "    <tr>\n",
       "      <th>1</th>\n",
       "      <td>76</td>\n",
       "      <td>0</td>\n",
       "      <td>33536.0</td>\n",
       "      <td>0</td>\n",
       "      <td>0</td>\n",
       "      <td>1</td>\n",
       "      <td>0</td>\n",
       "      <td>1</td>\n",
       "      <td>0</td>\n",
       "      <td>0</td>\n",
       "      <td>1</td>\n",
       "    </tr>\n",
       "    <tr>\n",
       "      <th>2</th>\n",
       "      <td>47</td>\n",
       "      <td>0</td>\n",
       "      <td>38294.0</td>\n",
       "      <td>1</td>\n",
       "      <td>0</td>\n",
       "      <td>0</td>\n",
       "      <td>1</td>\n",
       "      <td>0</td>\n",
       "      <td>1</td>\n",
       "      <td>0</td>\n",
       "      <td>1</td>\n",
       "    </tr>\n",
       "    <tr>\n",
       "      <th>3</th>\n",
       "      <td>21</td>\n",
       "      <td>1</td>\n",
       "      <td>28619.0</td>\n",
       "      <td>0</td>\n",
       "      <td>1</td>\n",
       "      <td>0</td>\n",
       "      <td>0</td>\n",
       "      <td>1</td>\n",
       "      <td>0</td>\n",
       "      <td>0</td>\n",
       "      <td>1</td>\n",
       "    </tr>\n",
       "    <tr>\n",
       "      <th>4</th>\n",
       "      <td>29</td>\n",
       "      <td>1</td>\n",
       "      <td>27496.0</td>\n",
       "      <td>0</td>\n",
       "      <td>1</td>\n",
       "      <td>0</td>\n",
       "      <td>0</td>\n",
       "      <td>1</td>\n",
       "      <td>0</td>\n",
       "      <td>1</td>\n",
       "      <td>0</td>\n",
       "    </tr>\n",
       "  </tbody>\n",
       "</table>\n",
       "</div>\n",
       "      <button class=\"colab-df-convert\" onclick=\"convertToInteractive('df-7b4818c6-63cc-4692-90b0-97dd7d923bd5')\"\n",
       "              title=\"Convert this dataframe to an interactive table.\"\n",
       "              style=\"display:none;\">\n",
       "        \n",
       "  <svg xmlns=\"http://www.w3.org/2000/svg\" height=\"24px\"viewBox=\"0 0 24 24\"\n",
       "       width=\"24px\">\n",
       "    <path d=\"M0 0h24v24H0V0z\" fill=\"none\"/>\n",
       "    <path d=\"M18.56 5.44l.94 2.06.94-2.06 2.06-.94-2.06-.94-.94-2.06-.94 2.06-2.06.94zm-11 1L8.5 8.5l.94-2.06 2.06-.94-2.06-.94L8.5 2.5l-.94 2.06-2.06.94zm10 10l.94 2.06.94-2.06 2.06-.94-2.06-.94-.94-2.06-.94 2.06-2.06.94z\"/><path d=\"M17.41 7.96l-1.37-1.37c-.4-.4-.92-.59-1.43-.59-.52 0-1.04.2-1.43.59L10.3 9.45l-7.72 7.72c-.78.78-.78 2.05 0 2.83L4 21.41c.39.39.9.59 1.41.59.51 0 1.02-.2 1.41-.59l7.78-7.78 2.81-2.81c.8-.78.8-2.07 0-2.86zM5.41 20L4 18.59l7.72-7.72 1.47 1.35L5.41 20z\"/>\n",
       "  </svg>\n",
       "      </button>\n",
       "      \n",
       "  <style>\n",
       "    .colab-df-container {\n",
       "      display:flex;\n",
       "      flex-wrap:wrap;\n",
       "      gap: 12px;\n",
       "    }\n",
       "\n",
       "    .colab-df-convert {\n",
       "      background-color: #E8F0FE;\n",
       "      border: none;\n",
       "      border-radius: 50%;\n",
       "      cursor: pointer;\n",
       "      display: none;\n",
       "      fill: #1967D2;\n",
       "      height: 32px;\n",
       "      padding: 0 0 0 0;\n",
       "      width: 32px;\n",
       "    }\n",
       "\n",
       "    .colab-df-convert:hover {\n",
       "      background-color: #E2EBFA;\n",
       "      box-shadow: 0px 1px 2px rgba(60, 64, 67, 0.3), 0px 1px 3px 1px rgba(60, 64, 67, 0.15);\n",
       "      fill: #174EA6;\n",
       "    }\n",
       "\n",
       "    [theme=dark] .colab-df-convert {\n",
       "      background-color: #3B4455;\n",
       "      fill: #D2E3FC;\n",
       "    }\n",
       "\n",
       "    [theme=dark] .colab-df-convert:hover {\n",
       "      background-color: #434B5C;\n",
       "      box-shadow: 0px 1px 3px 1px rgba(0, 0, 0, 0.15);\n",
       "      filter: drop-shadow(0px 1px 2px rgba(0, 0, 0, 0.3));\n",
       "      fill: #FFFFFF;\n",
       "    }\n",
       "  </style>\n",
       "\n",
       "      <script>\n",
       "        const buttonEl =\n",
       "          document.querySelector('#df-7b4818c6-63cc-4692-90b0-97dd7d923bd5 button.colab-df-convert');\n",
       "        buttonEl.style.display =\n",
       "          google.colab.kernel.accessAllowed ? 'block' : 'none';\n",
       "\n",
       "        async function convertToInteractive(key) {\n",
       "          const element = document.querySelector('#df-7b4818c6-63cc-4692-90b0-97dd7d923bd5');\n",
       "          const dataTable =\n",
       "            await google.colab.kernel.invokeFunction('convertToInteractive',\n",
       "                                                     [key], {});\n",
       "          if (!dataTable) return;\n",
       "\n",
       "          const docLinkHtml = 'Like what you see? Visit the ' +\n",
       "            '<a target=\"_blank\" href=https://colab.research.google.com/notebooks/data_table.ipynb>data table notebook</a>'\n",
       "            + ' to learn more about interactive tables.';\n",
       "          element.innerHTML = '';\n",
       "          dataTable['output_type'] = 'display_data';\n",
       "          await google.colab.output.renderOutput(dataTable, element);\n",
       "          const docLink = document.createElement('div');\n",
       "          docLink.innerHTML = docLinkHtml;\n",
       "          element.appendChild(docLink);\n",
       "        }\n",
       "      </script>\n",
       "    </div>\n",
       "  </div>\n",
       "  "
      ],
      "text/plain": [
       "   Age  Previously_Insured  Annual_Premium  Response  Vehicle_Age_0  \\\n",
       "0   44                   0         40454.0         1              0   \n",
       "1   76                   0         33536.0         0              0   \n",
       "2   47                   0         38294.0         1              0   \n",
       "3   21                   1         28619.0         0              1   \n",
       "4   29                   1         27496.0         0              1   \n",
       "\n",
       "   Vehicle_Age_1  Vehicle_Age_2  Vehicle_Damage_0  Vehicle_Damage_1  Gender_0  \\\n",
       "0              0              1                 0                 1         0   \n",
       "1              1              0                 1                 0         0   \n",
       "2              0              1                 0                 1         0   \n",
       "3              0              0                 1                 0         0   \n",
       "4              0              0                 1                 0         1   \n",
       "\n",
       "   Gender_1  \n",
       "0         1  \n",
       "1         1  \n",
       "2         1  \n",
       "3         1  \n",
       "4         0  "
      ]
     },
     "execution_count": 122,
     "metadata": {},
     "output_type": "execute_result"
    }
   ],
   "source": [
    "df_copy.head()"
   ]
  },
  {
   "cell_type": "code",
   "execution_count": null,
   "metadata": {
    "id": "p-y6jBxAoAQq"
   },
   "outputs": [],
   "source": [
    "#Splitting independent and dependent variables\n",
    "x = df_copy.drop(['Response'], axis =1)\n",
    "y = df_copy['Response']"
   ]
  },
  {
   "cell_type": "code",
   "execution_count": null,
   "metadata": {
    "colab": {
     "base_uri": "https://localhost:8080/"
    },
    "id": "k1lXYZAJoRrs",
    "outputId": "9b555325-e99b-4b64-f1a1-ea4bf60ea48f"
   },
   "outputs": [
    {
     "data": {
      "text/plain": [
       "0    325634\n",
       "1    260507\n",
       "Name: Response, dtype: int64"
      ]
     },
     "execution_count": 124,
     "metadata": {},
     "output_type": "execute_result"
    }
   ],
   "source": [
    "smt = SMOTE(sampling_strategy= 0.8, random_state = None , k_neighbors= 5)\n",
    "x_sampled,y_sampled = smt.fit_resample(x,y)\n",
    "y_sampled.value_counts()"
   ]
  },
  {
   "cell_type": "markdown",
   "metadata": {
    "id": "LGqEr2Z5pok5"
   },
   "source": [
    "**As we can see after resampling the number of instances in the data is increased and also the imbalance is also removed successfully with the help of SMOTE techniqe.**"
   ]
  },
  {
   "cell_type": "markdown",
   "metadata": {
    "id": "vDkX-uxNqKbY"
   },
   "source": [
    "### 5. Data Splitting"
   ]
  },
  {
   "cell_type": "code",
   "execution_count": null,
   "metadata": {
    "colab": {
     "base_uri": "https://localhost:8080/"
    },
    "id": "EvLlCJFapnUf",
    "outputId": "9346c88c-75a0-43ca-dc96-ae0c0b9a017b"
   },
   "outputs": [
    {
     "name": "stdout",
     "output_type": "stream",
     "text": [
      "(468912, 10)\n",
      "(117229, 10)\n"
     ]
    }
   ],
   "source": [
    "#Splitting the dataset into train and test dataset (Using new resampled data)\n",
    "X_train,X_test,y_train,y_test = train_test_split(x_sampled,y_sampled,test_size = 0.20, random_state = 2,stratify=y_sampled)\n",
    "print(X_train.shape)\n",
    "print(X_test.shape)"
   ]
  },
  {
   "cell_type": "code",
   "execution_count": null,
   "metadata": {
    "colab": {
     "base_uri": "https://localhost:8080/",
     "height": 206
    },
    "id": "ke6YwCVYpXqs",
    "outputId": "8502d68b-05a6-4bec-e017-7e19dc7a2bb3"
   },
   "outputs": [
    {
     "data": {
      "text/html": [
       "\n",
       "  <div id=\"df-4ded3350-31af-4633-a70a-71b799a1dfe8\">\n",
       "    <div class=\"colab-df-container\">\n",
       "      <div>\n",
       "<style scoped>\n",
       "    .dataframe tbody tr th:only-of-type {\n",
       "        vertical-align: middle;\n",
       "    }\n",
       "\n",
       "    .dataframe tbody tr th {\n",
       "        vertical-align: top;\n",
       "    }\n",
       "\n",
       "    .dataframe thead th {\n",
       "        text-align: right;\n",
       "    }\n",
       "</style>\n",
       "<table border=\"1\" class=\"dataframe\">\n",
       "  <thead>\n",
       "    <tr style=\"text-align: right;\">\n",
       "      <th></th>\n",
       "      <th>Age</th>\n",
       "      <th>Previously_Insured</th>\n",
       "      <th>Annual_Premium</th>\n",
       "      <th>Vehicle_Age_0</th>\n",
       "      <th>Vehicle_Age_1</th>\n",
       "      <th>Vehicle_Age_2</th>\n",
       "      <th>Vehicle_Damage_0</th>\n",
       "      <th>Vehicle_Damage_1</th>\n",
       "      <th>Gender_0</th>\n",
       "      <th>Gender_1</th>\n",
       "    </tr>\n",
       "  </thead>\n",
       "  <tbody>\n",
       "    <tr>\n",
       "      <th>429505</th>\n",
       "      <td>52</td>\n",
       "      <td>0</td>\n",
       "      <td>28671.721662</td>\n",
       "      <td>0</td>\n",
       "      <td>0</td>\n",
       "      <td>0</td>\n",
       "      <td>0</td>\n",
       "      <td>1</td>\n",
       "      <td>0</td>\n",
       "      <td>0</td>\n",
       "    </tr>\n",
       "    <tr>\n",
       "      <th>194186</th>\n",
       "      <td>24</td>\n",
       "      <td>1</td>\n",
       "      <td>25839.000000</td>\n",
       "      <td>1</td>\n",
       "      <td>0</td>\n",
       "      <td>0</td>\n",
       "      <td>1</td>\n",
       "      <td>0</td>\n",
       "      <td>1</td>\n",
       "      <td>0</td>\n",
       "    </tr>\n",
       "    <tr>\n",
       "      <th>569278</th>\n",
       "      <td>24</td>\n",
       "      <td>0</td>\n",
       "      <td>28274.866098</td>\n",
       "      <td>0</td>\n",
       "      <td>0</td>\n",
       "      <td>0</td>\n",
       "      <td>0</td>\n",
       "      <td>1</td>\n",
       "      <td>1</td>\n",
       "      <td>0</td>\n",
       "    </tr>\n",
       "    <tr>\n",
       "      <th>137922</th>\n",
       "      <td>33</td>\n",
       "      <td>0</td>\n",
       "      <td>2630.000000</td>\n",
       "      <td>0</td>\n",
       "      <td>1</td>\n",
       "      <td>0</td>\n",
       "      <td>0</td>\n",
       "      <td>1</td>\n",
       "      <td>0</td>\n",
       "      <td>1</td>\n",
       "    </tr>\n",
       "    <tr>\n",
       "      <th>156039</th>\n",
       "      <td>55</td>\n",
       "      <td>0</td>\n",
       "      <td>46222.000000</td>\n",
       "      <td>0</td>\n",
       "      <td>1</td>\n",
       "      <td>0</td>\n",
       "      <td>0</td>\n",
       "      <td>1</td>\n",
       "      <td>0</td>\n",
       "      <td>1</td>\n",
       "    </tr>\n",
       "  </tbody>\n",
       "</table>\n",
       "</div>\n",
       "      <button class=\"colab-df-convert\" onclick=\"convertToInteractive('df-4ded3350-31af-4633-a70a-71b799a1dfe8')\"\n",
       "              title=\"Convert this dataframe to an interactive table.\"\n",
       "              style=\"display:none;\">\n",
       "        \n",
       "  <svg xmlns=\"http://www.w3.org/2000/svg\" height=\"24px\"viewBox=\"0 0 24 24\"\n",
       "       width=\"24px\">\n",
       "    <path d=\"M0 0h24v24H0V0z\" fill=\"none\"/>\n",
       "    <path d=\"M18.56 5.44l.94 2.06.94-2.06 2.06-.94-2.06-.94-.94-2.06-.94 2.06-2.06.94zm-11 1L8.5 8.5l.94-2.06 2.06-.94-2.06-.94L8.5 2.5l-.94 2.06-2.06.94zm10 10l.94 2.06.94-2.06 2.06-.94-2.06-.94-.94-2.06-.94 2.06-2.06.94z\"/><path d=\"M17.41 7.96l-1.37-1.37c-.4-.4-.92-.59-1.43-.59-.52 0-1.04.2-1.43.59L10.3 9.45l-7.72 7.72c-.78.78-.78 2.05 0 2.83L4 21.41c.39.39.9.59 1.41.59.51 0 1.02-.2 1.41-.59l7.78-7.78 2.81-2.81c.8-.78.8-2.07 0-2.86zM5.41 20L4 18.59l7.72-7.72 1.47 1.35L5.41 20z\"/>\n",
       "  </svg>\n",
       "      </button>\n",
       "      \n",
       "  <style>\n",
       "    .colab-df-container {\n",
       "      display:flex;\n",
       "      flex-wrap:wrap;\n",
       "      gap: 12px;\n",
       "    }\n",
       "\n",
       "    .colab-df-convert {\n",
       "      background-color: #E8F0FE;\n",
       "      border: none;\n",
       "      border-radius: 50%;\n",
       "      cursor: pointer;\n",
       "      display: none;\n",
       "      fill: #1967D2;\n",
       "      height: 32px;\n",
       "      padding: 0 0 0 0;\n",
       "      width: 32px;\n",
       "    }\n",
       "\n",
       "    .colab-df-convert:hover {\n",
       "      background-color: #E2EBFA;\n",
       "      box-shadow: 0px 1px 2px rgba(60, 64, 67, 0.3), 0px 1px 3px 1px rgba(60, 64, 67, 0.15);\n",
       "      fill: #174EA6;\n",
       "    }\n",
       "\n",
       "    [theme=dark] .colab-df-convert {\n",
       "      background-color: #3B4455;\n",
       "      fill: #D2E3FC;\n",
       "    }\n",
       "\n",
       "    [theme=dark] .colab-df-convert:hover {\n",
       "      background-color: #434B5C;\n",
       "      box-shadow: 0px 1px 3px 1px rgba(0, 0, 0, 0.15);\n",
       "      filter: drop-shadow(0px 1px 2px rgba(0, 0, 0, 0.3));\n",
       "      fill: #FFFFFF;\n",
       "    }\n",
       "  </style>\n",
       "\n",
       "      <script>\n",
       "        const buttonEl =\n",
       "          document.querySelector('#df-4ded3350-31af-4633-a70a-71b799a1dfe8 button.colab-df-convert');\n",
       "        buttonEl.style.display =\n",
       "          google.colab.kernel.accessAllowed ? 'block' : 'none';\n",
       "\n",
       "        async function convertToInteractive(key) {\n",
       "          const element = document.querySelector('#df-4ded3350-31af-4633-a70a-71b799a1dfe8');\n",
       "          const dataTable =\n",
       "            await google.colab.kernel.invokeFunction('convertToInteractive',\n",
       "                                                     [key], {});\n",
       "          if (!dataTable) return;\n",
       "\n",
       "          const docLinkHtml = 'Like what you see? Visit the ' +\n",
       "            '<a target=\"_blank\" href=https://colab.research.google.com/notebooks/data_table.ipynb>data table notebook</a>'\n",
       "            + ' to learn more about interactive tables.';\n",
       "          element.innerHTML = '';\n",
       "          dataTable['output_type'] = 'display_data';\n",
       "          await google.colab.output.renderOutput(dataTable, element);\n",
       "          const docLink = document.createElement('div');\n",
       "          docLink.innerHTML = docLinkHtml;\n",
       "          element.appendChild(docLink);\n",
       "        }\n",
       "      </script>\n",
       "    </div>\n",
       "  </div>\n",
       "  "
      ],
      "text/plain": [
       "        Age  Previously_Insured  Annual_Premium  Vehicle_Age_0  Vehicle_Age_1  \\\n",
       "429505   52                   0    28671.721662              0              0   \n",
       "194186   24                   1    25839.000000              1              0   \n",
       "569278   24                   0    28274.866098              0              0   \n",
       "137922   33                   0     2630.000000              0              1   \n",
       "156039   55                   0    46222.000000              0              1   \n",
       "\n",
       "        Vehicle_Age_2  Vehicle_Damage_0  Vehicle_Damage_1  Gender_0  Gender_1  \n",
       "429505              0                 0                 1         0         0  \n",
       "194186              0                 1                 0         1         0  \n",
       "569278              0                 0                 1         1         0  \n",
       "137922              0                 0                 1         0         1  \n",
       "156039              0                 0                 1         0         1  "
      ]
     },
     "execution_count": 126,
     "metadata": {},
     "output_type": "execute_result"
    }
   ],
   "source": [
    "#Let's take a look at training dataset\n",
    "X_train.head()"
   ]
  },
  {
   "cell_type": "code",
   "execution_count": null,
   "metadata": {
    "colab": {
     "base_uri": "https://localhost:8080/",
     "height": 206
    },
    "id": "X7wDs5Ckq1iV",
    "outputId": "fc55461a-63f1-4d33-b4aa-f054b628198d"
   },
   "outputs": [
    {
     "data": {
      "text/html": [
       "\n",
       "  <div id=\"df-90e467fe-6295-4088-adbc-16cb85a22dc9\">\n",
       "    <div class=\"colab-df-container\">\n",
       "      <div>\n",
       "<style scoped>\n",
       "    .dataframe tbody tr th:only-of-type {\n",
       "        vertical-align: middle;\n",
       "    }\n",
       "\n",
       "    .dataframe tbody tr th {\n",
       "        vertical-align: top;\n",
       "    }\n",
       "\n",
       "    .dataframe thead th {\n",
       "        text-align: right;\n",
       "    }\n",
       "</style>\n",
       "<table border=\"1\" class=\"dataframe\">\n",
       "  <thead>\n",
       "    <tr style=\"text-align: right;\">\n",
       "      <th></th>\n",
       "      <th>Age</th>\n",
       "      <th>Previously_Insured</th>\n",
       "      <th>Annual_Premium</th>\n",
       "      <th>Vehicle_Age_0</th>\n",
       "      <th>Vehicle_Age_1</th>\n",
       "      <th>Vehicle_Age_2</th>\n",
       "      <th>Vehicle_Damage_0</th>\n",
       "      <th>Vehicle_Damage_1</th>\n",
       "      <th>Gender_0</th>\n",
       "      <th>Gender_1</th>\n",
       "    </tr>\n",
       "  </thead>\n",
       "  <tbody>\n",
       "    <tr>\n",
       "      <th>451027</th>\n",
       "      <td>38</td>\n",
       "      <td>0</td>\n",
       "      <td>27565.582238</td>\n",
       "      <td>0</td>\n",
       "      <td>1</td>\n",
       "      <td>0</td>\n",
       "      <td>0</td>\n",
       "      <td>1</td>\n",
       "      <td>0</td>\n",
       "      <td>1</td>\n",
       "    </tr>\n",
       "    <tr>\n",
       "      <th>248986</th>\n",
       "      <td>49</td>\n",
       "      <td>1</td>\n",
       "      <td>37090.000000</td>\n",
       "      <td>0</td>\n",
       "      <td>1</td>\n",
       "      <td>0</td>\n",
       "      <td>1</td>\n",
       "      <td>0</td>\n",
       "      <td>1</td>\n",
       "      <td>0</td>\n",
       "    </tr>\n",
       "    <tr>\n",
       "      <th>538784</th>\n",
       "      <td>36</td>\n",
       "      <td>0</td>\n",
       "      <td>32432.908891</td>\n",
       "      <td>0</td>\n",
       "      <td>1</td>\n",
       "      <td>0</td>\n",
       "      <td>0</td>\n",
       "      <td>1</td>\n",
       "      <td>0</td>\n",
       "      <td>0</td>\n",
       "    </tr>\n",
       "    <tr>\n",
       "      <th>447727</th>\n",
       "      <td>38</td>\n",
       "      <td>0</td>\n",
       "      <td>33840.514701</td>\n",
       "      <td>0</td>\n",
       "      <td>1</td>\n",
       "      <td>0</td>\n",
       "      <td>0</td>\n",
       "      <td>1</td>\n",
       "      <td>0</td>\n",
       "      <td>0</td>\n",
       "    </tr>\n",
       "    <tr>\n",
       "      <th>197256</th>\n",
       "      <td>50</td>\n",
       "      <td>1</td>\n",
       "      <td>2630.000000</td>\n",
       "      <td>0</td>\n",
       "      <td>1</td>\n",
       "      <td>0</td>\n",
       "      <td>0</td>\n",
       "      <td>1</td>\n",
       "      <td>0</td>\n",
       "      <td>1</td>\n",
       "    </tr>\n",
       "  </tbody>\n",
       "</table>\n",
       "</div>\n",
       "      <button class=\"colab-df-convert\" onclick=\"convertToInteractive('df-90e467fe-6295-4088-adbc-16cb85a22dc9')\"\n",
       "              title=\"Convert this dataframe to an interactive table.\"\n",
       "              style=\"display:none;\">\n",
       "        \n",
       "  <svg xmlns=\"http://www.w3.org/2000/svg\" height=\"24px\"viewBox=\"0 0 24 24\"\n",
       "       width=\"24px\">\n",
       "    <path d=\"M0 0h24v24H0V0z\" fill=\"none\"/>\n",
       "    <path d=\"M18.56 5.44l.94 2.06.94-2.06 2.06-.94-2.06-.94-.94-2.06-.94 2.06-2.06.94zm-11 1L8.5 8.5l.94-2.06 2.06-.94-2.06-.94L8.5 2.5l-.94 2.06-2.06.94zm10 10l.94 2.06.94-2.06 2.06-.94-2.06-.94-.94-2.06-.94 2.06-2.06.94z\"/><path d=\"M17.41 7.96l-1.37-1.37c-.4-.4-.92-.59-1.43-.59-.52 0-1.04.2-1.43.59L10.3 9.45l-7.72 7.72c-.78.78-.78 2.05 0 2.83L4 21.41c.39.39.9.59 1.41.59.51 0 1.02-.2 1.41-.59l7.78-7.78 2.81-2.81c.8-.78.8-2.07 0-2.86zM5.41 20L4 18.59l7.72-7.72 1.47 1.35L5.41 20z\"/>\n",
       "  </svg>\n",
       "      </button>\n",
       "      \n",
       "  <style>\n",
       "    .colab-df-container {\n",
       "      display:flex;\n",
       "      flex-wrap:wrap;\n",
       "      gap: 12px;\n",
       "    }\n",
       "\n",
       "    .colab-df-convert {\n",
       "      background-color: #E8F0FE;\n",
       "      border: none;\n",
       "      border-radius: 50%;\n",
       "      cursor: pointer;\n",
       "      display: none;\n",
       "      fill: #1967D2;\n",
       "      height: 32px;\n",
       "      padding: 0 0 0 0;\n",
       "      width: 32px;\n",
       "    }\n",
       "\n",
       "    .colab-df-convert:hover {\n",
       "      background-color: #E2EBFA;\n",
       "      box-shadow: 0px 1px 2px rgba(60, 64, 67, 0.3), 0px 1px 3px 1px rgba(60, 64, 67, 0.15);\n",
       "      fill: #174EA6;\n",
       "    }\n",
       "\n",
       "    [theme=dark] .colab-df-convert {\n",
       "      background-color: #3B4455;\n",
       "      fill: #D2E3FC;\n",
       "    }\n",
       "\n",
       "    [theme=dark] .colab-df-convert:hover {\n",
       "      background-color: #434B5C;\n",
       "      box-shadow: 0px 1px 3px 1px rgba(0, 0, 0, 0.15);\n",
       "      filter: drop-shadow(0px 1px 2px rgba(0, 0, 0, 0.3));\n",
       "      fill: #FFFFFF;\n",
       "    }\n",
       "  </style>\n",
       "\n",
       "      <script>\n",
       "        const buttonEl =\n",
       "          document.querySelector('#df-90e467fe-6295-4088-adbc-16cb85a22dc9 button.colab-df-convert');\n",
       "        buttonEl.style.display =\n",
       "          google.colab.kernel.accessAllowed ? 'block' : 'none';\n",
       "\n",
       "        async function convertToInteractive(key) {\n",
       "          const element = document.querySelector('#df-90e467fe-6295-4088-adbc-16cb85a22dc9');\n",
       "          const dataTable =\n",
       "            await google.colab.kernel.invokeFunction('convertToInteractive',\n",
       "                                                     [key], {});\n",
       "          if (!dataTable) return;\n",
       "\n",
       "          const docLinkHtml = 'Like what you see? Visit the ' +\n",
       "            '<a target=\"_blank\" href=https://colab.research.google.com/notebooks/data_table.ipynb>data table notebook</a>'\n",
       "            + ' to learn more about interactive tables.';\n",
       "          element.innerHTML = '';\n",
       "          dataTable['output_type'] = 'display_data';\n",
       "          await google.colab.output.renderOutput(dataTable, element);\n",
       "          const docLink = document.createElement('div');\n",
       "          docLink.innerHTML = docLinkHtml;\n",
       "          element.appendChild(docLink);\n",
       "        }\n",
       "      </script>\n",
       "    </div>\n",
       "  </div>\n",
       "  "
      ],
      "text/plain": [
       "        Age  Previously_Insured  Annual_Premium  Vehicle_Age_0  Vehicle_Age_1  \\\n",
       "451027   38                   0    27565.582238              0              1   \n",
       "248986   49                   1    37090.000000              0              1   \n",
       "538784   36                   0    32432.908891              0              1   \n",
       "447727   38                   0    33840.514701              0              1   \n",
       "197256   50                   1     2630.000000              0              1   \n",
       "\n",
       "        Vehicle_Age_2  Vehicle_Damage_0  Vehicle_Damage_1  Gender_0  Gender_1  \n",
       "451027              0                 0                 1         0         1  \n",
       "248986              0                 1                 0         1         0  \n",
       "538784              0                 0                 1         0         0  \n",
       "447727              0                 0                 1         0         0  \n",
       "197256              0                 0                 1         0         1  "
      ]
     },
     "execution_count": 127,
     "metadata": {},
     "output_type": "execute_result"
    }
   ],
   "source": [
    "#Let's take a look at testing dataset\n",
    "X_test.head()"
   ]
  },
  {
   "cell_type": "code",
   "execution_count": null,
   "metadata": {
    "colab": {
     "base_uri": "https://localhost:8080/"
    },
    "id": "DulFOu9-ujU7",
    "outputId": "1a1f5939-6a89-45a5-db40-575589ed78cd"
   },
   "outputs": [
    {
     "data": {
      "text/plain": [
       "117229"
      ]
     },
     "execution_count": 128,
     "metadata": {},
     "output_type": "execute_result"
    }
   ],
   "source": [
    "len(y_test)"
   ]
  },
  {
   "cell_type": "markdown",
   "metadata": {
    "id": "VfCC591jGiD4"
   },
   "source": [
    "## ***5. ML Model Implementation***"
   ]
  },
  {
   "cell_type": "markdown",
   "metadata": {
    "id": "a4f2fce3"
   },
   "source": [
    "### Logistic Regarssion "
   ]
  },
  {
   "cell_type": "code",
   "execution_count": null,
   "metadata": {
    "colab": {
     "base_uri": "https://localhost:8080/"
    },
    "id": "PhFxSxEqtao3",
    "outputId": "092eb6f1-9f60-4fb0-e068-321f0f5a1aae"
   },
   "outputs": [
    {
     "data": {
      "text/plain": [
       "LogisticRegression()"
      ]
     },
     "execution_count": 129,
     "metadata": {},
     "output_type": "execute_result"
    }
   ],
   "source": [
    "logistic = LogisticRegression()\n",
    "logistic.fit(X_train,y_train)"
   ]
  },
  {
   "cell_type": "code",
   "execution_count": null,
   "metadata": {
    "id": "Q9a339Uct5ia"
   },
   "outputs": [],
   "source": [
    "y_pred_train = logistic.predict(X_train)\n",
    "y_pred_test = logistic.predict(X_test)"
   ]
  },
  {
   "cell_type": "code",
   "execution_count": null,
   "metadata": {
    "colab": {
     "base_uri": "https://localhost:8080/"
    },
    "id": "yW1SwalStgzb",
    "outputId": "14178dcf-1b36-4fc5-f454-f85e2b257c84"
   },
   "outputs": [
    {
     "name": "stdout",
     "output_type": "stream",
     "text": [
      "Confusion Matrix :\n",
      " [[184884  75623]\n",
      " [ 25401 183004]]\n",
      "********************************************************************************\n",
      "Accuracy : 0.7845565905756304\n",
      "********************************************************************************\n",
      "classification Report:\n",
      "               precision    recall  f1-score   support\n",
      "\n",
      "           0       0.88      0.71      0.79    260507\n",
      "           1       0.71      0.88      0.78    208405\n",
      "\n",
      "    accuracy                           0.78    468912\n",
      "   macro avg       0.79      0.79      0.78    468912\n",
      "weighted avg       0.80      0.78      0.78    468912\n",
      "\n"
     ]
    }
   ],
   "source": [
    "#Training  Data Evaluation for Logistic regression\n",
    "\n",
    "cnf_matrix = confusion_matrix(y_train,y_pred_train)\n",
    "print(\"Confusion Matrix :\\n\",cnf_matrix)\n",
    "\n",
    "print(\"*\"*80)\n",
    "accuracy = accuracy_score(y_train,y_pred_train)\n",
    "print(\"Accuracy :\",accuracy)\n",
    "\n",
    "print(\"*\"*80)\n",
    "clf_report = classification_report(y_train,y_pred_train)\n",
    "print(\"classification Report:\\n\",clf_report)"
   ]
  },
  {
   "cell_type": "code",
   "execution_count": null,
   "metadata": {
    "id": "MdTf-T8AGPc9"
   },
   "outputs": [],
   "source": [
    "#Storing the accuracies of all algorithms for comparison and final conclusion\n",
    "dict1 = {'Model' : 'Logistic Regression',\n",
    "         'Accuracy' : round(accuracy,3)}\n",
    "train_df = pd.DataFrame(dict1,index=[1])"
   ]
  },
  {
   "cell_type": "markdown",
   "metadata": {
    "id": "JWYfwnehpsJ1"
   },
   "source": [
    "#### 1. Explain the ML Model used and it's performance using Evaluation metric Score Chart."
   ]
  },
  {
   "cell_type": "markdown",
   "metadata": {
    "id": "2gVFCXKWx7qY"
   },
   "source": [
    "**So, we are getting the accuracy as 79% for the training dataset, which is quite good, now let's see about the testing data.**"
   ]
  },
  {
   "cell_type": "code",
   "execution_count": null,
   "metadata": {
    "colab": {
     "base_uri": "https://localhost:8080/"
    },
    "id": "RirJPPUKuJPO",
    "outputId": "73bc4ed4-2b8a-4caa-bd95-1e050249e982"
   },
   "outputs": [
    {
     "name": "stdout",
     "output_type": "stream",
     "text": [
      "Confusion Matrix :\n",
      " [[46086 19041]\n",
      " [ 6296 45806]]\n",
      "Accuracy : 0.7838674730655384\n",
      "classification Report:\n",
      "               precision    recall  f1-score   support\n",
      "\n",
      "           0       0.88      0.71      0.78     65127\n",
      "           1       0.71      0.88      0.78     52102\n",
      "\n",
      "    accuracy                           0.78    117229\n",
      "   macro avg       0.79      0.79      0.78    117229\n",
      "weighted avg       0.80      0.78      0.78    117229\n",
      "\n"
     ]
    }
   ],
   "source": [
    "#Testing Data Evaluation for Logistic regression\n",
    "\n",
    "cnf_matrix = confusion_matrix(y_test,y_pred_test)\n",
    "print(\"Confusion Matrix :\\n\",cnf_matrix)\n",
    "\n",
    "accuracy = accuracy_score(y_test,y_pred_test)\n",
    "print(\"Accuracy :\",accuracy)\n",
    "\n",
    "clf_report = classification_report(y_test,y_pred_test)\n",
    "print(\"classification Report:\\n\",clf_report)"
   ]
  },
  {
   "cell_type": "markdown",
   "metadata": {
    "id": "TX_FaeO8yVee"
   },
   "source": [
    "**For testing dataset, we are getting accuracy as 78%, which is also a good value, but we will go for the hyperparameter tuning and cross validation to get the better idea.**"
   ]
  },
  {
   "cell_type": "code",
   "execution_count": null,
   "metadata": {
    "id": "LGOcvIhfGoh_"
   },
   "outputs": [],
   "source": [
    "#Storing the accuracies of all algorithms for comparison and final conclusion\n",
    "dict2 = {'Model' : 'Logistic Regression',\n",
    "         'Accuracy' : round(accuracy,2)}\n",
    "test_df = pd.DataFrame(dict1,index=[1])"
   ]
  },
  {
   "cell_type": "markdown",
   "metadata": {
    "id": "-jK_YjpMpsJ2"
   },
   "source": [
    "#### 2. Cross- Validation & Hyperparameter Tuning"
   ]
  },
  {
   "cell_type": "code",
   "execution_count": null,
   "metadata": {
    "colab": {
     "base_uri": "https://localhost:8080/"
    },
    "id": "k9CbbR7kxHa3",
    "outputId": "a659ab5d-8498-4d4a-ec8d-d813d0d397c4"
   },
   "outputs": [
    {
     "data": {
      "text/plain": [
       "GridSearchCV(cv=3, estimator=LogisticRegression(),\n",
       "             param_grid=[{'penalty': ['none', 'elasticnet', 'l1', 'l2']},\n",
       "                         {'C': [0.001, 0.01, 0.1, 1, 10, 100]}],\n",
       "             scoring='accuracy')"
      ]
     },
     "execution_count": 135,
     "metadata": {},
     "output_type": "execute_result"
    }
   ],
   "source": [
    "param = [{'penalty':['none', 'elasticnet', 'l1', 'l2']},\n",
    "              {'C':[0.001, 0.01, 0.1, 1, 10, 100]}]\n",
    "logi = LogisticRegression()\n",
    "logi_classifier = GridSearchCV(logi,param, scoring = 'accuracy' , cv = 3)\n",
    "logi_classifier.fit(X_train,y_train)"
   ]
  },
  {
   "cell_type": "code",
   "execution_count": null,
   "metadata": {
    "colab": {
     "base_uri": "https://localhost:8080/"
    },
    "id": "okbW0VoW1I9N",
    "outputId": "561e2ef7-7872-43c8-a934-0d8179849055"
   },
   "outputs": [
    {
     "name": "stdout",
     "output_type": "stream",
     "text": [
      "The best parameters for logistic regression after hyperparameter tuning and cross-validation are : \n",
      " {'C': 0.001}\n"
     ]
    }
   ],
   "source": [
    "print('The best parameters for logistic regression after hyperparameter tuning and cross-validation are : \\n',logi_classifier.best_params_)"
   ]
  },
  {
   "cell_type": "code",
   "execution_count": null,
   "metadata": {
    "id": "m-J8Erzj1vM5"
   },
   "outputs": [],
   "source": [
    "y_pred_train_log = logi_classifier.predict(X_train)\n",
    "y_pred_test_log = logi_classifier.predict(X_test)"
   ]
  },
  {
   "cell_type": "code",
   "execution_count": null,
   "metadata": {
    "colab": {
     "base_uri": "https://localhost:8080/"
    },
    "id": "uWhVfzt6kcrp",
    "outputId": "49d3078c-d20d-4863-ab08-e4dc7aea53da"
   },
   "outputs": [
    {
     "name": "stdout",
     "output_type": "stream",
     "text": [
      "Confusion Matrix :\n",
      " [[184305  76202]\n",
      " [ 23098 185307]]\n",
      "********************************************************************************\n",
      "Accuracy : 0.7882331866107073\n",
      "********************************************************************************\n",
      "classification Report:\n",
      "               precision    recall  f1-score   support\n",
      "\n",
      "           0       0.89      0.71      0.79    260507\n",
      "           1       0.71      0.89      0.79    208405\n",
      "\n",
      "    accuracy                           0.79    468912\n",
      "   macro avg       0.80      0.80      0.79    468912\n",
      "weighted avg       0.81      0.79      0.79    468912\n",
      "\n"
     ]
    }
   ],
   "source": [
    "#Training  Data Evaluation for Logistic regression\n",
    "\n",
    "cnf_matrix = confusion_matrix(y_train,y_pred_train_log)\n",
    "print(\"Confusion Matrix :\\n\",cnf_matrix)\n",
    "\n",
    "print(\"*\"*80)\n",
    "accuracy = accuracy_score(y_train,y_pred_train_log)\n",
    "print(\"Accuracy :\",accuracy)\n",
    "\n",
    "print(\"*\"*80)\n",
    "clf_report = classification_report(y_train,y_pred_train_log)\n",
    "print(\"classification Report:\\n\",clf_report)"
   ]
  },
  {
   "cell_type": "markdown",
   "metadata": {
    "id": "Zy8NXLyCkzj6"
   },
   "source": [
    "**Here after performing hyperparameter tuning we can se that there is no improvement in the results for train data. The accuracy is still 78% for train data.**"
   ]
  },
  {
   "cell_type": "code",
   "execution_count": null,
   "metadata": {
    "colab": {
     "base_uri": "https://localhost:8080/"
    },
    "id": "4mCQS9bskjVO",
    "outputId": "e92507de-633d-4090-b6ec-d80ab4f82af6"
   },
   "outputs": [
    {
     "name": "stdout",
     "output_type": "stream",
     "text": [
      "Confusion Matrix :\n",
      " [[45947 19180]\n",
      " [ 5718 46384]]\n",
      "Accuracy : 0.7876122802378251\n",
      "classification Report:\n",
      "               precision    recall  f1-score   support\n",
      "\n",
      "           0       0.89      0.71      0.79     65127\n",
      "           1       0.71      0.89      0.79     52102\n",
      "\n",
      "    accuracy                           0.79    117229\n",
      "   macro avg       0.80      0.80      0.79    117229\n",
      "weighted avg       0.81      0.79      0.79    117229\n",
      "\n"
     ]
    }
   ],
   "source": [
    "#Testing Data Evaluation for Logistic regression\n",
    "\n",
    "cnf_matrix = confusion_matrix(y_test,y_pred_test_log)\n",
    "print(\"Confusion Matrix :\\n\",cnf_matrix)\n",
    "\n",
    "accuracy = accuracy_score(y_test,y_pred_test_log)\n",
    "print(\"Accuracy :\",accuracy)\n",
    "\n",
    "clf_report = classification_report(y_test,y_pred_test_log)\n",
    "print(\"classification Report:\\n\",clf_report)"
   ]
  },
  {
   "cell_type": "markdown",
   "metadata": {
    "id": "JLp24RjPlGUs"
   },
   "source": [
    "**For test data also the accuracy hasn't changed. The accuracy after hyperparameter tuning for test data is still 78%.**"
   ]
  },
  {
   "cell_type": "markdown",
   "metadata": {
    "id": "uyD2-3HEdvdE"
   },
   "source": [
    "##### Have you seen any improvement? Note down the improvement with updates Evaluation metric Score Chart."
   ]
  },
  {
   "cell_type": "markdown",
   "metadata": {
    "id": "IiP1r08td22G"
   },
   "source": [
    "There is no improvement after doing hyperparameter tuning and cross validation."
   ]
  },
  {
   "cell_type": "markdown",
   "metadata": {
    "id": "07c3bcef"
   },
   "source": [
    "### Decision Tree "
   ]
  },
  {
   "cell_type": "code",
   "execution_count": null,
   "metadata": {
    "colab": {
     "base_uri": "https://localhost:8080/"
    },
    "id": "vhXx4GM8ksKK",
    "outputId": "8c111923-011d-44b6-bfc3-5bd1fff65c89"
   },
   "outputs": [
    {
     "data": {
      "text/plain": [
       "DecisionTreeClassifier()"
      ]
     },
     "execution_count": 140,
     "metadata": {},
     "output_type": "execute_result"
    }
   ],
   "source": [
    "#Let's fit the data into the model\n",
    "dt_classifier = DecisionTreeClassifier()\n",
    "dt_classifier.fit(X_train,y_train)"
   ]
  },
  {
   "cell_type": "code",
   "execution_count": null,
   "metadata": {
    "id": "LYcQpo5dlu-p"
   },
   "outputs": [],
   "source": [
    "#Let's do the prediction on test and train data\n",
    "y_train_pred_dt = dt_classifier.predict(X_train)\n",
    "y_pred_test_dt = dt_classifier.predict(X_test)"
   ]
  },
  {
   "cell_type": "code",
   "execution_count": null,
   "metadata": {
    "colab": {
     "base_uri": "https://localhost:8080/"
    },
    "id": "aEE6Duz0mG0X",
    "outputId": "61a818b2-c2d9-49b8-db72-3a4d1bb970f2"
   },
   "outputs": [
    {
     "name": "stdout",
     "output_type": "stream",
     "text": [
      "Confusion Matrix :\n",
      " [[243473  17034]\n",
      " [  5071 203334]]\n",
      "********************************************************************************\n",
      "Accuracy : 0.9528589586105709\n",
      "********************************************************************************\n",
      "classification Report:\n",
      "               precision    recall  f1-score   support\n",
      "\n",
      "           0       0.98      0.93      0.96    260507\n",
      "           1       0.92      0.98      0.95    208405\n",
      "\n",
      "    accuracy                           0.95    468912\n",
      "   macro avg       0.95      0.96      0.95    468912\n",
      "weighted avg       0.95      0.95      0.95    468912\n",
      "\n"
     ]
    }
   ],
   "source": [
    "#Training  Data Evaluation for Decision tree without Hyperparameter Tunning\n",
    "\n",
    "cnf_matrix = confusion_matrix(y_train,y_train_pred_dt)\n",
    "print(\"Confusion Matrix :\\n\",cnf_matrix)\n",
    "\n",
    "print(\"*\"*80)\n",
    "accuracy = accuracy_score(y_train,y_train_pred_dt)\n",
    "print(\"Accuracy :\",accuracy)\n",
    "\n",
    "print(\"*\"*80)\n",
    "clf_report = classification_report(y_train,y_train_pred_dt)\n",
    "print(\"classification Report:\\n\",clf_report)"
   ]
  },
  {
   "cell_type": "code",
   "execution_count": null,
   "metadata": {
    "id": "3H5D3dn-HawR"
   },
   "outputs": [],
   "source": [
    "#Storing the accuracies of all algorithms for comparison and final conclusion\n",
    "dict1 = {'Model' : 'Decision Tree',\n",
    "         'Accuracy' : round(accuracy,2)}\n",
    "train_df = train_df.append(dict1,ignore_index = True)"
   ]
  },
  {
   "cell_type": "markdown",
   "metadata": {
    "id": "FkoeWHABmU6n"
   },
   "source": [
    "#### 1. Explain the ML Model used and it's performance using Evaluation metric Score Chart."
   ]
  },
  {
   "cell_type": "markdown",
   "metadata": {
    "id": "_IzohnJomVpP"
   },
   "source": [
    "**We are getting accuracy for decision tree model as 95% for train dataset which is quite good.We will also perform hyperparameter tuning and cross validation to find whether we get better results or not.**"
   ]
  },
  {
   "cell_type": "code",
   "execution_count": null,
   "metadata": {
    "colab": {
     "base_uri": "https://localhost:8080/"
    },
    "id": "BtYNRCGJl-tG",
    "outputId": "bcd493f9-9b2f-46c4-f788-14ffd992a1f4"
   },
   "outputs": [
    {
     "name": "stdout",
     "output_type": "stream",
     "text": [
      "Confusion Matrix :\n",
      " [[53830 11297]\n",
      " [ 6504 45598]]\n",
      "Accuracy : 0.8481519078043829\n",
      "classification Report:\n",
      "               precision    recall  f1-score   support\n",
      "\n",
      "           0       0.89      0.83      0.86     65127\n",
      "           1       0.80      0.88      0.84     52102\n",
      "\n",
      "    accuracy                           0.85    117229\n",
      "   macro avg       0.85      0.85      0.85    117229\n",
      "weighted avg       0.85      0.85      0.85    117229\n",
      "\n"
     ]
    }
   ],
   "source": [
    "#Testing Data Evaluation for Decision tree without Hyperparameter Tunning\n",
    "\n",
    "cnf_matrix = confusion_matrix(y_test,y_pred_test_dt)\n",
    "print(\"Confusion Matrix :\\n\",cnf_matrix)\n",
    "\n",
    "accuracy = accuracy_score(y_test,y_pred_test_dt)\n",
    "print(\"Accuracy :\",accuracy)\n",
    "\n",
    "clf_report = classification_report(y_test,y_pred_test_dt)\n",
    "print(\"classification Report:\\n\",clf_report)"
   ]
  },
  {
   "cell_type": "markdown",
   "metadata": {
    "id": "X4D-3QkwmuCq"
   },
   "source": [
    "**For test data we are getting accuracy as 85% which is less compared to train result. There might be some overfitting issues which we will try to solve using hyperparameter tuning and cross validation.**"
   ]
  },
  {
   "cell_type": "code",
   "execution_count": null,
   "metadata": {
    "id": "1rvkur9zH15p"
   },
   "outputs": [],
   "source": [
    "dict2 = {'Model' : 'Decision Tree',\n",
    "         'Accuracy' : round(accuracy,2)}\n",
    "test_df = test_df.append(dict2,ignore_index = True)"
   ]
  },
  {
   "cell_type": "markdown",
   "metadata": {
    "id": "fe3b1af9"
   },
   "source": [
    "### Hyperparameter Tunning and cross-validation."
   ]
  },
  {
   "cell_type": "code",
   "execution_count": null,
   "metadata": {
    "colab": {
     "base_uri": "https://localhost:8080/"
    },
    "id": "qxAuQLW0n2h9",
    "outputId": "5076228a-14ee-44a5-d004-7e38db977661"
   },
   "outputs": [
    {
     "data": {
      "text/plain": [
       "RandomizedSearchCV(cv=3, estimator=DecisionTreeClassifier(),\n",
       "                   param_distributions={'criterion': ['gini', 'entropy'],\n",
       "                                        'max_depth': array([ 2,  3,  4,  5,  6,  7,  8,  9, 10, 11]),\n",
       "                                        'min_samples_leaf': array([ 2,  3,  4,  5,  6,  7,  8,  9, 10, 11, 12, 13, 14, 15, 16, 17, 18,\n",
       "       19, 20, 21, 22, 23]),\n",
       "                                        'min_samples_split': array([ 2,  3,  4,  5,  6,  7,  8,  9, 10, 11, 12, 13, 14, 15, 16, 17, 18,\n",
       "       19, 20, 21, 22, 23]),\n",
       "                                        'splitter': ['best', 'random']},\n",
       "                   scoring='accuracy')"
      ]
     },
     "execution_count": 146,
     "metadata": {},
     "output_type": "execute_result"
    }
   ],
   "source": [
    "param = {'criterion' : ['gini','entropy'],\n",
    "         'splitter' : ['best','random'],\n",
    "         'max_depth' : np.arange(2,12),\n",
    "         'min_samples_split': np.arange(2,24),\n",
    "         'min_samples_leaf' : np.arange(2,24)}\n",
    "dt_model = DecisionTreeClassifier()\n",
    "RSCV_dt = RandomizedSearchCV(dt_model,param,scoring='accuracy', cv = 3)\n",
    "RSCV_dt.fit(X_train,y_train)"
   ]
  },
  {
   "cell_type": "code",
   "execution_count": null,
   "metadata": {
    "colab": {
     "base_uri": "https://localhost:8080/"
    },
    "id": "lgjzc67opaBl",
    "outputId": "b0a89226-aa77-4d8a-c54d-35832108be8e"
   },
   "outputs": [
    {
     "name": "stdout",
     "output_type": "stream",
     "text": [
      "The best parameters for logistic regression after hyperparameter tuning and cross-validation are : \n",
      " DecisionTreeClassifier(criterion='entropy', max_depth=9, min_samples_leaf=18,\n",
      "                       min_samples_split=5)\n"
     ]
    }
   ],
   "source": [
    "print('The best parameters for logistic regression after hyperparameter tuning and cross-validation are : \\n',RSCV_dt.best_estimator_)"
   ]
  },
  {
   "cell_type": "code",
   "execution_count": null,
   "metadata": {
    "id": "nwWOcVk8xTlu"
   },
   "outputs": [],
   "source": [
    "y_train_pred_dt1 = RSCV_dt.predict(X_train)\n",
    "y_pred_test_dt2 = RSCV_dt.predict(X_test)"
   ]
  },
  {
   "cell_type": "code",
   "execution_count": null,
   "metadata": {
    "colab": {
     "base_uri": "https://localhost:8080/"
    },
    "id": "NJO7MxUIC67v",
    "outputId": "5d086432-e4b9-40f9-f098-5eb33f89f43b"
   },
   "outputs": [
    {
     "name": "stdout",
     "output_type": "stream",
     "text": [
      "Confusion Matrix :\n",
      " [[207280  53227]\n",
      " [ 30276 178129]]\n",
      "Accuracy : 0.8219218104889617\n",
      "classification Report:\n",
      "               precision    recall  f1-score   support\n",
      "\n",
      "           0       0.87      0.80      0.83    260507\n",
      "           1       0.77      0.85      0.81    208405\n",
      "\n",
      "    accuracy                           0.82    468912\n",
      "   macro avg       0.82      0.83      0.82    468912\n",
      "weighted avg       0.83      0.82      0.82    468912\n",
      "\n"
     ]
    }
   ],
   "source": [
    "#Training Data evaluation after Hyperparameter Tuning\n",
    "\n",
    "cnf_matrix = confusion_matrix(y_train,y_train_pred_dt1)\n",
    "print(\"Confusion Matrix :\\n\",cnf_matrix)\n",
    "\n",
    "accuracy = accuracy_score(y_train,y_train_pred_dt1)\n",
    "print(\"Accuracy :\",accuracy)\n",
    "\n",
    "clf_report = classification_report(y_train,y_train_pred_dt1)\n",
    "print(\"classification Report:\\n\",clf_report)"
   ]
  },
  {
   "cell_type": "markdown",
   "metadata": {
    "id": "Bh6-Ruha7z81"
   },
   "source": [
    "**The accuracy after hyperparameter tuning and cross validation is 82% for the training dataset, which is less as compared to the accuracy we were getting without hyperparameter tuning and cross-validaton. So, we can say that it helped us to tackle the overfitting condition.**"
   ]
  },
  {
   "cell_type": "code",
   "execution_count": null,
   "metadata": {
    "colab": {
     "base_uri": "https://localhost:8080/"
    },
    "id": "9Z9N6CQbDDvP",
    "outputId": "cad8267a-9290-44a7-fca9-275ddb485d81"
   },
   "outputs": [
    {
     "name": "stdout",
     "output_type": "stream",
     "text": [
      "Confusion Matrix :\n",
      " [[51684 13443]\n",
      " [ 7546 44556]]\n",
      "Accuracy : 0.8209572716648611\n",
      "classification Report:\n",
      "               precision    recall  f1-score   support\n",
      "\n",
      "           0       0.87      0.79      0.83     65127\n",
      "           1       0.77      0.86      0.81     52102\n",
      "\n",
      "    accuracy                           0.82    117229\n",
      "   macro avg       0.82      0.82      0.82    117229\n",
      "weighted avg       0.83      0.82      0.82    117229\n",
      "\n"
     ]
    }
   ],
   "source": [
    "#Testing Data evaluation after Hyperparameter Tuning\n",
    "\n",
    "cnf_matrix = confusion_matrix(y_test,y_pred_test_dt2)\n",
    "print(\"Confusion Matrix :\\n\",cnf_matrix)\n",
    "\n",
    "accuracy = accuracy_score(y_test,y_pred_test_dt2)\n",
    "print(\"Accuracy :\",accuracy)\n",
    "\n",
    "clf_report = classification_report(y_test,y_pred_test_dt2)\n",
    "print(\"classification Report:\\n\",clf_report)"
   ]
  },
  {
   "cell_type": "markdown",
   "metadata": {
    "id": "-m5ZjeYl8RuR"
   },
   "source": [
    "**The acccuracies before and after hyperparameter tuning is quite closed which are 85% and 82% respectively. So there is not much significant improvement after performing after hyperparameter tuning and cross validation.**"
   ]
  },
  {
   "cell_type": "markdown",
   "metadata": {
    "id": "BWLYrc_aT6Gq"
   },
   "source": [
    "##### Have you seen any improvement? Note down the improvement with updates Evaluation metric Score Chart."
   ]
  },
  {
   "cell_type": "markdown",
   "metadata": {
    "id": "5ji9x7iM8qFR"
   },
   "source": [
    "There is no improvement after doing hyperparameter tuning and cross validation."
   ]
  },
  {
   "cell_type": "markdown",
   "metadata": {
    "id": "41cbea4e"
   },
   "source": [
    "### Random Forest "
   ]
  },
  {
   "cell_type": "code",
   "execution_count": null,
   "metadata": {
    "colab": {
     "base_uri": "https://localhost:8080/"
    },
    "id": "cqHmv42vDIQt",
    "outputId": "e758ba40-cb36-40b0-fed8-fc63389d48e3"
   },
   "outputs": [
    {
     "data": {
      "text/plain": [
       "RandomForestClassifier()"
      ]
     },
     "execution_count": 151,
     "metadata": {},
     "output_type": "execute_result"
    }
   ],
   "source": [
    "#Let's fit the model\n",
    "random_forest = RandomForestClassifier()\n",
    "random_forest.fit(X_train,y_train)"
   ]
  },
  {
   "cell_type": "code",
   "execution_count": null,
   "metadata": {
    "id": "M8YAkYWpXvHJ"
   },
   "outputs": [],
   "source": [
    "#Let's perform predictions\n",
    "y_pred_train_rf = random_forest.predict(X_train)\n",
    "y_pred_test_rf = random_forest.predict(X_test)"
   ]
  },
  {
   "cell_type": "code",
   "execution_count": null,
   "metadata": {
    "colab": {
     "base_uri": "https://localhost:8080/"
    },
    "id": "r3V1XVggX-p5",
    "outputId": "83fbdd9c-9edf-459c-9983-c42e57c538a1"
   },
   "outputs": [
    {
     "name": "stdout",
     "output_type": "stream",
     "text": [
      "Confusion Matrix :\n",
      " [[242895  17612]\n",
      " [  4523 203882]]\n",
      "********************************************************************************\n",
      "Accuracy : 0.9527949807213294\n",
      "********************************************************************************\n",
      "classification Report:\n",
      "               precision    recall  f1-score   support\n",
      "\n",
      "           0       0.98      0.93      0.96    260507\n",
      "           1       0.92      0.98      0.95    208405\n",
      "\n",
      "    accuracy                           0.95    468912\n",
      "   macro avg       0.95      0.96      0.95    468912\n",
      "weighted avg       0.95      0.95      0.95    468912\n",
      "\n"
     ]
    }
   ],
   "source": [
    "#Training Data Evaluation without hyperparameter tunning\n",
    "\n",
    "cnf_matrix = confusion_matrix(y_train,y_pred_train_rf)\n",
    "print(\"Confusion Matrix :\\n\",cnf_matrix)\n",
    "\n",
    "print(\"*\"*80)\n",
    "accuracy = accuracy_score(y_train,y_pred_train_rf)\n",
    "print(\"Accuracy :\",accuracy)\n",
    "\n",
    "print(\"*\"*80)\n",
    "clf_report = classification_report(y_train,y_pred_train_rf)\n",
    "print(\"classification Report:\\n\",clf_report)"
   ]
  },
  {
   "cell_type": "code",
   "execution_count": null,
   "metadata": {
    "id": "o5Xa4W3lH-SN"
   },
   "outputs": [],
   "source": [
    "#Storing the accuracies of all algorithms for comparison and final conclusion\n",
    "dict1 = {'Model' : 'Random Forest',\n",
    "         'Accuracy' : round(accuracy,2)}\n",
    "train_df = train_df.append(dict1,ignore_index = True)"
   ]
  },
  {
   "cell_type": "markdown",
   "metadata": {
    "id": "Zf19sM4pE6ub"
   },
   "source": [
    "#### 1. Explain the ML Model used and it's performance using Evaluation metric Score Chart."
   ]
  },
  {
   "cell_type": "markdown",
   "metadata": {
    "id": "lg5fop9C8tN7"
   },
   "source": [
    "**The accuracy for the training dataset with Random forest classifier is nearly about 95% which is very good value. But we will perform cross-validation and hyperparameter tuning to get the idea about the improvement and also about overfitting condition.**"
   ]
  },
  {
   "cell_type": "code",
   "execution_count": null,
   "metadata": {
    "colab": {
     "base_uri": "https://localhost:8080/"
    },
    "id": "m3v5vFvaYJkv",
    "outputId": "78fbc118-33f7-4f6e-fdab-d70cf52a6dc4"
   },
   "outputs": [
    {
     "name": "stdout",
     "output_type": "stream",
     "text": [
      "Confusion Matrix :\n",
      " [[53130 11997]\n",
      " [ 6920 45182]]\n",
      "Accuracy : 0.8386320790930571\n",
      "classification Report:\n",
      "               precision    recall  f1-score   support\n",
      "\n",
      "           0       0.88      0.82      0.85     65127\n",
      "           1       0.79      0.87      0.83     52102\n",
      "\n",
      "    accuracy                           0.84    117229\n",
      "   macro avg       0.84      0.84      0.84    117229\n",
      "weighted avg       0.84      0.84      0.84    117229\n",
      "\n"
     ]
    }
   ],
   "source": [
    "#Testing Data Evaluation without hyperparameter tunning\n",
    "\n",
    "cnf_matrix = confusion_matrix(y_test,y_pred_test_rf)\n",
    "print(\"Confusion Matrix :\\n\",cnf_matrix)\n",
    "\n",
    "accuracy = accuracy_score(y_test,y_pred_test_rf)\n",
    "print(\"Accuracy :\",accuracy)\n",
    "\n",
    "clf_report = classification_report(y_test,y_pred_test_rf)\n",
    "print(\"classification Report:\\n\",clf_report)"
   ]
  },
  {
   "cell_type": "markdown",
   "metadata": {
    "id": "gJlMYv1e9VM1"
   },
   "source": [
    "**For testing data it's giving us accuracy of 83% which is also a good value. Let's perform hyperparameter tuning and cross validation for better understanding.**"
   ]
  },
  {
   "cell_type": "code",
   "execution_count": null,
   "metadata": {
    "id": "MBzdObfaIOvi"
   },
   "outputs": [],
   "source": [
    "dict2 = {'Model' : 'Random Forest',\n",
    "         'Accuracy' : round(accuracy,2)}\n",
    "test_df = test_df.append(dict2,ignore_index = True)"
   ]
  },
  {
   "cell_type": "markdown",
   "metadata": {
    "id": "sgyZXBAUE-6u"
   },
   "source": [
    "#### 2. Cross- Validation & Hyperparameter Tuning"
   ]
  },
  {
   "cell_type": "code",
   "execution_count": null,
   "metadata": {
    "colab": {
     "base_uri": "https://localhost:8080/"
    },
    "id": "nHPW8WdPYRfk",
    "outputId": "77a460c0-5b3d-43b9-bc36-371149b170a5"
   },
   "outputs": [
    {
     "data": {
      "text/plain": [
       "RandomizedSearchCV(cv=3, estimator=RandomForestClassifier(),\n",
       "                   param_distributions={'criterion': ['gini', 'entropy'],\n",
       "                                        'max_depth': array([3, 4, 5, 6, 7]),\n",
       "                                        'max_features': ['auto'],\n",
       "                                        'min_samples_leaf': array([3, 4, 5, 6, 7, 8, 9]),\n",
       "                                        'min_samples_split': array([ 4,  5,  6,  7,  8,  9, 10, 11, 12, 13, 14, 15, 16, 17, 18, 19]),\n",
       "                                        'n_estimators': array([10, 11, 12, 13, 14, 15, 16, 17, 18, 19, 20, 21, 22, 23, 24, 25, 26,\n",
       "       27, 28, 29, 30, 31, 32, 33, 34, 35, 36, 37, 38, 39, 40, 41, 42, 43,\n",
       "       44, 45, 46, 47, 48, 49, 50, 51, 52, 53, 54, 55, 56, 57, 58, 59, 60,\n",
       "       61, 62, 63, 64, 65, 66, 67, 68, 69, 70, 71, 72, 73, 74, 75, 76, 77,\n",
       "       78, 79, 80, 81, 82, 83, 84, 85, 86, 87, 88, 89, 90, 91, 92, 93, 94,\n",
       "       95, 96, 97, 98, 99]),\n",
       "                                        'oob_score': [True],\n",
       "                                        'random_state': [11]},\n",
       "                   scoring='accuracy')"
      ]
     },
     "execution_count": 157,
     "metadata": {},
     "output_type": "execute_result"
    }
   ],
   "source": [
    "hyperparameters = {'n_estimators':np.arange(10,100),\n",
    "                    'criterion':['gini','entropy'],\n",
    "                    'max_depth':np.arange(3,8),  \n",
    "                    'min_samples_split':np.arange(4,20),\n",
    "                    'min_samples_leaf':np.arange(3,10),\n",
    "                    'random_state':[11],\n",
    "                    'oob_score':[True],\n",
    "                    'max_features':['auto']}\n",
    "rf_model = RandomForestClassifier()\n",
    "RSCV_rf_model = RandomizedSearchCV(rf_model,hyperparameters,scoring ='accuracy', cv = 3)\n",
    "RSCV_rf_model.fit(X_train,y_train)"
   ]
  },
  {
   "cell_type": "code",
   "execution_count": null,
   "metadata": {
    "colab": {
     "base_uri": "https://localhost:8080/"
    },
    "id": "bUG2Z4u5ZVWd",
    "outputId": "9761f4a0-9171-4544-dfca-c86526ea4a3c"
   },
   "outputs": [
    {
     "name": "stdout",
     "output_type": "stream",
     "text": [
      "The best parameters for logistic regression after hyperparameter tuning and cross-validation are : \n",
      " RandomForestClassifier(max_depth=7, min_samples_leaf=3, min_samples_split=10,\n",
      "                       n_estimators=67, oob_score=True, random_state=11)\n"
     ]
    }
   ],
   "source": [
    "print('The best parameters for logistic regression after hyperparameter tuning and cross-validation are : \\n',RSCV_rf_model.best_estimator_)"
   ]
  },
  {
   "cell_type": "code",
   "execution_count": null,
   "metadata": {
    "id": "DPJ5XwmiZlFC"
   },
   "outputs": [],
   "source": [
    "y_train_pred_rf1 = RSCV_rf_model.predict(X_train)\n",
    "y_pred_test_rf2 = RSCV_rf_model.predict(X_test)"
   ]
  },
  {
   "cell_type": "code",
   "execution_count": null,
   "metadata": {
    "colab": {
     "base_uri": "https://localhost:8080/"
    },
    "id": "F3xKDCorcdzx",
    "outputId": "4b5a7e9a-490d-4437-c993-ed089d1fbfcc"
   },
   "outputs": [
    {
     "name": "stdout",
     "output_type": "stream",
     "text": [
      "Confusion Matrix :\n",
      " [[192370  68137]\n",
      " [ 17494 190911]]\n",
      "Accuracy : 0.8173836455454329\n",
      "classification Report:\n",
      "               precision    recall  f1-score   support\n",
      "\n",
      "           0       0.92      0.74      0.82    260507\n",
      "           1       0.74      0.92      0.82    208405\n",
      "\n",
      "    accuracy                           0.82    468912\n",
      "   macro avg       0.83      0.83      0.82    468912\n",
      "weighted avg       0.84      0.82      0.82    468912\n",
      "\n"
     ]
    }
   ],
   "source": [
    "#Training Data Evaluation with hyperparameter tunning\n",
    "\n",
    "cnf_matrix = confusion_matrix(y_train,y_train_pred_rf1)\n",
    "print(\"Confusion Matrix :\\n\",cnf_matrix)\n",
    "\n",
    "\n",
    "accuracy = accuracy_score(y_train,y_train_pred_rf1)\n",
    "print(\"Accuracy :\",accuracy)\n",
    "\n",
    "clf_report = classification_report(y_train,y_train_pred_rf1)\n",
    "print(\"classification Report:\\n\",clf_report)"
   ]
  },
  {
   "cell_type": "markdown",
   "metadata": {
    "id": "SB1eIxZH9rWs"
   },
   "source": [
    "**As we can see, the accuracy reduced to 85% after performing cross validation and hyperparameter tuning. So it helped us to tackle the overfitting.**"
   ]
  },
  {
   "cell_type": "code",
   "execution_count": null,
   "metadata": {
    "colab": {
     "base_uri": "https://localhost:8080/"
    },
    "id": "RCV1hzU7chnD",
    "outputId": "3442811e-3369-40db-e649-3a588600c3be"
   },
   "outputs": [
    {
     "name": "stdout",
     "output_type": "stream",
     "text": [
      "Confusion Matrix :\n",
      " [[47965 17162]\n",
      " [ 4350 47752]]\n",
      "Accuracy : 0.8164959182454853\n",
      "classification Report:\n",
      "               precision    recall  f1-score   support\n",
      "\n",
      "           0       0.92      0.74      0.82     65127\n",
      "           1       0.74      0.92      0.82     52102\n",
      "\n",
      "    accuracy                           0.82    117229\n",
      "   macro avg       0.83      0.83      0.82    117229\n",
      "weighted avg       0.84      0.82      0.82    117229\n",
      "\n"
     ]
    }
   ],
   "source": [
    "#Testing Data Evaluation with hyperparameter tunning\n",
    "\n",
    "cnf_matrix = confusion_matrix(y_test,y_pred_test_rf2)\n",
    "print(\"Confusion Matrix :\\n\",cnf_matrix)\n",
    "\n",
    "accuracy = accuracy_score(y_test,y_pred_test_rf2)\n",
    "print(\"Accuracy :\",accuracy)\n",
    "\n",
    "clf_report = classification_report(y_test,y_pred_test_rf2)\n",
    "print(\"classification Report:\\n\",clf_report)"
   ]
  },
  {
   "cell_type": "markdown",
   "metadata": {
    "id": "6HaYWivF95Ts"
   },
   "source": [
    "**The accuracy for the test dataset is incresed to 85% after performing hyperparameter tuning and cross validation.**"
   ]
  },
  {
   "cell_type": "markdown",
   "metadata": {
    "id": "z5OJrGuW-dtk"
   },
   "source": [
    "##### Have you seen any improvement? Note down the improvement with updates Evaluation metric Score Chart."
   ]
  },
  {
   "cell_type": "markdown",
   "metadata": {
    "id": "jcpVo3GW-eTa"
   },
   "source": [
    "Yes, there is improvement after hyperparameter tuning and cross-validation. We got rid of overfitting condition and also our test accuracy is incresed by 2%."
   ]
  },
  {
   "cell_type": "markdown",
   "metadata": {
    "id": "r3cgvzbW-yfG"
   },
   "source": [
    "#### **Model Explainability - Feature Importance.**"
   ]
  },
  {
   "cell_type": "code",
   "execution_count": null,
   "metadata": {
    "colab": {
     "base_uri": "https://localhost:8080/"
    },
    "id": "vY8yU8Xrcno0",
    "outputId": "966383fb-8b80-434c-92cf-7da6deba742c"
   },
   "outputs": [
    {
     "data": {
      "text/plain": [
       "Index(['Age', 'Previously_Insured', 'Annual_Premium', 'Vehicle_Age_0',\n",
       "       'Vehicle_Age_1', 'Vehicle_Age_2', 'Vehicle_Damage_0',\n",
       "       'Vehicle_Damage_1', 'Gender_0', 'Gender_1'],\n",
       "      dtype='object')"
      ]
     },
     "execution_count": 162,
     "metadata": {},
     "output_type": "execute_result"
    }
   ],
   "source": [
    "x.columns"
   ]
  },
  {
   "cell_type": "code",
   "execution_count": null,
   "metadata": {
    "colab": {
     "base_uri": "https://localhost:8080/"
    },
    "id": "gd1GaWaAdqbG",
    "outputId": "aa4891dd-35ab-472f-9c58-6286434256e6"
   },
   "outputs": [
    {
     "data": {
      "text/plain": [
       "array([0.05987268, 0.12640929, 0.36641788, 0.05516266, 0.02239857,\n",
       "       0.01460982, 0.15768539, 0.10496521, 0.0456104 , 0.04686809])"
      ]
     },
     "execution_count": 163,
     "metadata": {},
     "output_type": "execute_result"
    }
   ],
   "source": [
    "random_forest.feature_importances_"
   ]
  },
  {
   "cell_type": "code",
   "execution_count": null,
   "metadata": {
    "colab": {
     "base_uri": "https://localhost:8080/"
    },
    "id": "dDWiDGxdd21G",
    "outputId": "b0f747fe-f3a3-41a1-997e-adddb68bb3ec"
   },
   "outputs": [
    {
     "data": {
      "text/plain": [
       "Vehicle_Age_2          1.460982\n",
       "Vehicle_Age_1          2.239857\n",
       "Gender_0               4.561040\n",
       "Gender_1               4.686809\n",
       "Vehicle_Age_0          5.516266\n",
       "Age                    5.987268\n",
       "Vehicle_Damage_1      10.496521\n",
       "Previously_Insured    12.640929\n",
       "Vehicle_Damage_0      15.768539\n",
       "Annual_Premium        36.641788\n",
       "dtype: float64"
      ]
     },
     "execution_count": 164,
     "metadata": {},
     "output_type": "execute_result"
    }
   ],
   "source": [
    "s1 = pd.Series(random_forest.feature_importances_,index = x.columns)\n",
    "s1.sort_values()*100"
   ]
  },
  {
   "cell_type": "code",
   "execution_count": null,
   "metadata": {
    "colab": {
     "base_uri": "https://localhost:8080/",
     "height": 285
    },
    "id": "sJUIasItd8Jg",
    "outputId": "0cd2ef27-efe1-448e-f59c-e3d3423fc1fd"
   },
   "outputs": [
    {
     "data": {
      "text/plain": [
       "<matplotlib.axes._subplots.AxesSubplot at 0x7ff44179de20>"
      ]
     },
     "execution_count": 165,
     "metadata": {},
     "output_type": "execute_result"
    },
    {
     "data": {
      "image/png": "[encoded data removed]",
      "text/plain": [
       "<Figure size 432x288 with 1 Axes>"
      ]
     },
     "metadata": {},
     "output_type": "display_data"
    }
   ],
   "source": [
    "s1.sort_values().plot(kind = \"barh\")"
   ]
  },
  {
   "cell_type": "markdown",
   "metadata": {
    "id": "ae93a95f"
   },
   "source": [
    "### AdaBoost Classifier"
   ]
  },
  {
   "cell_type": "code",
   "execution_count": null,
   "metadata": {
    "colab": {
     "base_uri": "https://localhost:8080/"
    },
    "id": "RjLj0C0q_SV9",
    "outputId": "115da7c8-e5fb-4434-bd98-c4f608edd7af"
   },
   "outputs": [
    {
     "data": {
      "text/plain": [
       "AdaBoostClassifier()"
      ]
     },
     "execution_count": 166,
     "metadata": {},
     "output_type": "execute_result"
    }
   ],
   "source": [
    "#let's fit the model\n",
    "ada_clf = AdaBoostClassifier()\n",
    "ada_clf.fit(X_train,y_train)"
   ]
  },
  {
   "cell_type": "code",
   "execution_count": null,
   "metadata": {
    "id": "68XFbgPP_cXi"
   },
   "outputs": [],
   "source": [
    "#let's do the prediction\n",
    "y_pred_train_ada = ada_clf.predict(X_train)\n",
    "y_pred_test_ada = ada_clf.predict(X_test)"
   ]
  },
  {
   "cell_type": "code",
   "execution_count": null,
   "metadata": {
    "colab": {
     "base_uri": "https://localhost:8080/"
    },
    "id": "NwRHXggu_cR_",
    "outputId": "a76a19b2-7131-4245-bf79-e78a210ce30d"
   },
   "outputs": [
    {
     "name": "stdout",
     "output_type": "stream",
     "text": [
      "Confusion Matrix :\n",
      " [[198321  62186]\n",
      " [ 22931 185474]]\n",
      "Accuracy: 0.8184798000477702\n",
      "classification_report               precision    recall  f1-score   support\n",
      "\n",
      "           0       0.90      0.76      0.82    260507\n",
      "           1       0.75      0.89      0.81    208405\n",
      "\n",
      "    accuracy                           0.82    468912\n",
      "   macro avg       0.82      0.83      0.82    468912\n",
      "weighted avg       0.83      0.82      0.82    468912\n",
      "\n"
     ]
    }
   ],
   "source": [
    "#Training Data Evaluation without hyperparameter\n",
    "\n",
    "\n",
    "cnf_matrix = confusion_matrix(y_train,y_pred_train_ada)\n",
    "print(\"Confusion Matrix :\\n\",cnf_matrix)\n",
    "\n",
    "\n",
    "accuracy = accuracy_score(y_train,y_pred_train_ada)\n",
    "print(\"Accuracy:\",accuracy)\n",
    "\n",
    "\n",
    "clf_report = classification_report(y_train,y_pred_train_ada)\n",
    "print('classification_report',clf_report)"
   ]
  },
  {
   "cell_type": "markdown",
   "metadata": {
    "id": "3sDD4aqbAEn9"
   },
   "source": [
    "#### 1. Explain the ML Model used and it's performance using Evaluation metric Score Chart."
   ]
  },
  {
   "cell_type": "markdown",
   "metadata": {
    "id": "2unHEn_kAFT4"
   },
   "source": [
    "**The accuracy we are getting for training dataset is 81% using AdaBoostClasifier, which is less as compared to previous algorithms, so we will perform hyperparameter tuning and cross validation to see whether there is scope of improvement or not.**"
   ]
  },
  {
   "cell_type": "code",
   "execution_count": null,
   "metadata": {
    "id": "04nVclq-IFOg"
   },
   "outputs": [],
   "source": [
    "#Storing the accuracies of all algorithms for comparison and final conclusion\n",
    "dict1 = {'Model' : 'Adaboost Classifier',\n",
    "         'Accuracy' : round(accuracy,2)}\n",
    "train_df = train_df.append(dict1,ignore_index = True)"
   ]
  },
  {
   "cell_type": "code",
   "execution_count": null,
   "metadata": {
    "colab": {
     "base_uri": "https://localhost:8080/"
    },
    "id": "YYGITSPU_cUM",
    "outputId": "7d4d1a28-9017-4e3e-d973-88beb0d97951"
   },
   "outputs": [
    {
     "name": "stdout",
     "output_type": "stream",
     "text": [
      "Confusion Matrix :\n",
      " [[49415 15712]\n",
      " [ 5664 46438]]\n",
      "Accuracy: 0.8176560407407724\n",
      "classification_report               precision    recall  f1-score   support\n",
      "\n",
      "           0       0.90      0.76      0.82     65127\n",
      "           1       0.75      0.89      0.81     52102\n",
      "\n",
      "    accuracy                           0.82    117229\n",
      "   macro avg       0.82      0.83      0.82    117229\n",
      "weighted avg       0.83      0.82      0.82    117229\n",
      "\n"
     ]
    }
   ],
   "source": [
    "#Testing Data Evaluation without hyperparameter\n",
    "\n",
    "cnf_matrix = confusion_matrix(y_test,y_pred_test_ada)\n",
    "print(\"Confusion Matrix :\\n\",cnf_matrix)\n",
    "\n",
    "\n",
    "accuracy = accuracy_score(y_test,y_pred_test_ada)\n",
    "print(\"Accuracy:\",accuracy)\n",
    "\n",
    "\n",
    "clf_report = classification_report(y_test,y_pred_test_ada)\n",
    "print('classification_report',clf_report)"
   ]
  },
  {
   "cell_type": "markdown",
   "metadata": {
    "id": "GEqgBNepApx0"
   },
   "source": [
    "**The test data accuracy is same as train data i.e. 81%**"
   ]
  },
  {
   "cell_type": "code",
   "execution_count": null,
   "metadata": {
    "id": "2V7kv1bmIUf4"
   },
   "outputs": [],
   "source": [
    "dict2 = {'Model' : 'AdaBoost Classifier',\n",
    "         'Accuracy' : round(accuracy,2)}\n",
    "test_df = test_df.append(dict2,ignore_index = True)"
   ]
  },
  {
   "cell_type": "markdown",
   "metadata": {
    "id": "9A4PJmcYA4Zw"
   },
   "source": [
    "#### 2. Cross- Validation & Hyperparameter Tuning"
   ]
  },
  {
   "cell_type": "code",
   "execution_count": null,
   "metadata": {
    "colab": {
     "base_uri": "https://localhost:8080/"
    },
    "id": "107I0ria_cP-",
    "outputId": "efa3a2bb-aca1-4d97-b9bb-da2ed24cef29"
   },
   "outputs": [
    {
     "data": {
      "text/plain": [
       "RandomizedSearchCV(cv=5, estimator=AdaBoostClassifier(),\n",
       "                   param_distributions={'learning_rate': array([0.000e+00, 1.000e-03, 2.000e-03, ..., 1.997e+00, 1.998e+00,\n",
       "       1.999e+00]),\n",
       "                                        'n_estimators': array([10, 11, 12, 13, 14, 15, 16, 17, 18, 19, 20, 21, 22, 23, 24, 25, 26,\n",
       "       27, 28, 29, 30, 31, 32, 33, 34, 35, 36, 37, 38, 39, 40, 41, 42, 43,\n",
       "       44, 45, 46, 47, 48, 49, 50, 51, 52, 53, 54, 55, 56, 57, 58, 59, 60,\n",
       "       61, 62, 63, 64, 65, 66, 67, 68, 69, 70, 71, 72, 73, 74, 75, 76, 77,\n",
       "       78, 79, 80, 81, 82, 83, 84, 85, 86, 87, 88, 89, 90, 91, 92, 93, 94,\n",
       "       95, 96, 97, 98, 99])})"
      ]
     },
     "execution_count": 172,
     "metadata": {},
     "output_type": "execute_result"
    }
   ],
   "source": [
    "params = {'n_estimators':np.arange(10,100),\n",
    "                    'learning_rate':np.arange(0,2,0.001)}\n",
    "ada_model = AdaBoostClassifier()\n",
    "RSCV_ada_cf = RandomizedSearchCV(ada_model,params,cv=5)\n",
    "RSCV_ada_cf.fit(X_train,y_train)"
   ]
  },
  {
   "cell_type": "code",
   "execution_count": null,
   "metadata": {
    "colab": {
     "base_uri": "https://localhost:8080/"
    },
    "id": "FOv78avh_cNx",
    "outputId": "86174cbd-ce99-4c76-af81-89135eb139ce"
   },
   "outputs": [
    {
     "name": "stdout",
     "output_type": "stream",
     "text": [
      "The best parameters for logistic regression after hyperparameter tuning and cross-validation are : \n",
      " AdaBoostClassifier(learning_rate=1.3980000000000001, n_estimators=96)\n"
     ]
    }
   ],
   "source": [
    "print('The best parameters for logistic regression after hyperparameter tuning and cross-validation are : \\n',RSCV_ada_cf.best_estimator_)"
   ]
  },
  {
   "cell_type": "code",
   "execution_count": null,
   "metadata": {
    "id": "Za7ewml5CUio"
   },
   "outputs": [],
   "source": [
    "y_pred_train_ada1 = RSCV_ada_cf.predict(X_train)\n",
    "y_pred_test_ada2 = RSCV_ada_cf.predict(X_test)"
   ]
  },
  {
   "cell_type": "code",
   "execution_count": null,
   "metadata": {
    "colab": {
     "base_uri": "https://localhost:8080/"
    },
    "id": "iVH591iLCVCs",
    "outputId": "2d9e00c2-e181-467d-ab31-f3f4d810a3e5"
   },
   "outputs": [
    {
     "name": "stdout",
     "output_type": "stream",
     "text": [
      "Confusion Matrix :\n",
      " [[205364  55143]\n",
      " [ 28345 180060]]\n",
      "Accuracy: 0.8219537994335824\n",
      "classification_report               precision    recall  f1-score   support\n",
      "\n",
      "           0       0.88      0.79      0.83    260507\n",
      "           1       0.77      0.86      0.81    208405\n",
      "\n",
      "    accuracy                           0.82    468912\n",
      "   macro avg       0.82      0.83      0.82    468912\n",
      "weighted avg       0.83      0.82      0.82    468912\n",
      "\n"
     ]
    }
   ],
   "source": [
    "#Training Data Evaluation with hyperparameter tunning\n",
    "\n",
    "cnf_matrix = confusion_matrix(y_train,y_pred_train_ada1)\n",
    "print(\"Confusion Matrix :\\n\",cnf_matrix)\n",
    "\n",
    "\n",
    "accuracy = accuracy_score(y_train,y_pred_train_ada1)\n",
    "print(\"Accuracy:\",accuracy)\n",
    "\n",
    "clf_report = classification_report(y_train,y_pred_train_ada1)\n",
    "print('classification_report',clf_report)"
   ]
  },
  {
   "cell_type": "code",
   "execution_count": null,
   "metadata": {
    "colab": {
     "base_uri": "https://localhost:8080/"
    },
    "id": "psMknMBTCrXV",
    "outputId": "3fb27f1b-4f0a-46c6-d1b3-90789a2a4d81"
   },
   "outputs": [
    {
     "name": "stdout",
     "output_type": "stream",
     "text": [
      "Confusion Matrix :\n",
      " [[51240 13887]\n",
      " [ 7034 45068]]\n",
      "Accuracy: 0.8215373329125046\n",
      "classification_report               precision    recall  f1-score   support\n",
      "\n",
      "           0       0.88      0.79      0.83     65127\n",
      "           1       0.76      0.86      0.81     52102\n",
      "\n",
      "    accuracy                           0.82    117229\n",
      "   macro avg       0.82      0.83      0.82    117229\n",
      "weighted avg       0.83      0.82      0.82    117229\n",
      "\n"
     ]
    }
   ],
   "source": [
    "#Testing Data Evaluation with hyperparameter tunning\n",
    "\n",
    "cnf_matrix = confusion_matrix(y_test,y_pred_test_ada2)\n",
    "print(\"Confusion Matrix :\\n\",cnf_matrix)\n",
    "\n",
    "\n",
    "accuracy = accuracy_score(y_test,y_pred_test_ada2)\n",
    "print(\"Accuracy:\",accuracy)\n",
    "\n",
    "\n",
    "clf_report = classification_report(y_test,y_pred_test_ada2)\n",
    "print('classification_report',clf_report)"
   ]
  },
  {
   "cell_type": "markdown",
   "metadata": {
    "id": "ipiLSue4Fnq5"
   },
   "source": [
    "##### Have you seen any improvement? Note down the improvement with updates Evaluation metric Score Chart."
   ]
  },
  {
   "cell_type": "markdown",
   "metadata": {
    "id": "MGN1f-gnFsPV"
   },
   "source": [
    "There is no improvement after doing hyperparameter tuning and cross validation."
   ]
  },
  {
   "cell_type": "markdown",
   "metadata": {
    "id": "aAH-UscoVFpe"
   },
   "source": [
    "#**CONCLUSION**"
   ]
  },
  {
   "cell_type": "markdown",
   "metadata": {
    "id": "NI5uxsuARfv-"
   },
   "source": [
    "During our analysis we performed EDA on our data. We have analyzed both numerical as well as categorical columns / features. After performing EDA we got to know that 'Annual_Premium' column have outliers, so, in feature engineering we removed the outliers with the help of IQR method. Also out output column had imbalanced data. So to tackle that thing we performed data-resampling using SMOTE technique.\n",
    "Next we implemented 4 Machine Learning Models and also performed hyperparameter tuning and cross validation for each method. Following are the results of the models :-"
   ]
  },
  {
   "cell_type": "code",
   "execution_count": null,
   "metadata": {
    "colab": {
     "base_uri": "https://localhost:8080/",
     "height": 300
    },
    "id": "d7vc9QUuIcvX",
    "outputId": "652e927b-40c6-4cd9-a618-a11147ed525b"
   },
   "outputs": [
    {
     "data": {
      "text/html": [
       "\n",
       "  <div id=\"df-ba0fb24b-00d8-4a9e-8606-a0a1e68c8c63\">\n",
       "    <div class=\"colab-df-container\">\n",
       "      <div>\n",
       "<style scoped>\n",
       "    .dataframe tbody tr th:only-of-type {\n",
       "        vertical-align: middle;\n",
       "    }\n",
       "\n",
       "    .dataframe tbody tr th {\n",
       "        vertical-align: top;\n",
       "    }\n",
       "\n",
       "    .dataframe thead th {\n",
       "        text-align: right;\n",
       "    }\n",
       "</style>\n",
       "<table border=\"1\" class=\"dataframe\">\n",
       "  <thead>\n",
       "    <tr style=\"text-align: right;\">\n",
       "      <th></th>\n",
       "      <th></th>\n",
       "      <th>Model</th>\n",
       "      <th>Accuracy</th>\n",
       "    </tr>\n",
       "  </thead>\n",
       "  <tbody>\n",
       "    <tr>\n",
       "      <th rowspan=\"4\" valign=\"top\">Training set</th>\n",
       "      <th>0</th>\n",
       "      <td>Logistic Regression</td>\n",
       "      <td>0.785</td>\n",
       "    </tr>\n",
       "    <tr>\n",
       "      <th>1</th>\n",
       "      <td>Decision Tree</td>\n",
       "      <td>0.950</td>\n",
       "    </tr>\n",
       "    <tr>\n",
       "      <th>2</th>\n",
       "      <td>Random Forest</td>\n",
       "      <td>0.950</td>\n",
       "    </tr>\n",
       "    <tr>\n",
       "      <th>3</th>\n",
       "      <td>Adaboost Classifier</td>\n",
       "      <td>0.820</td>\n",
       "    </tr>\n",
       "    <tr>\n",
       "      <th rowspan=\"4\" valign=\"top\">Test set</th>\n",
       "      <th>0</th>\n",
       "      <td>Logistic Regression</td>\n",
       "      <td>0.785</td>\n",
       "    </tr>\n",
       "    <tr>\n",
       "      <th>1</th>\n",
       "      <td>Decision Tree</td>\n",
       "      <td>0.850</td>\n",
       "    </tr>\n",
       "    <tr>\n",
       "      <th>2</th>\n",
       "      <td>Random Forest</td>\n",
       "      <td>0.840</td>\n",
       "    </tr>\n",
       "    <tr>\n",
       "      <th>3</th>\n",
       "      <td>AdaBoost Classifier</td>\n",
       "      <td>0.820</td>\n",
       "    </tr>\n",
       "  </tbody>\n",
       "</table>\n",
       "</div>\n",
       "      <button class=\"colab-df-convert\" onclick=\"convertToInteractive('df-ba0fb24b-00d8-4a9e-8606-a0a1e68c8c63')\"\n",
       "              title=\"Convert this dataframe to an interactive table.\"\n",
       "              style=\"display:none;\">\n",
       "        \n",
       "  <svg xmlns=\"http://www.w3.org/2000/svg\" height=\"24px\"viewBox=\"0 0 24 24\"\n",
       "       width=\"24px\">\n",
       "    <path d=\"M0 0h24v24H0V0z\" fill=\"none\"/>\n",
       "    <path d=\"M18.56 5.44l.94 2.06.94-2.06 2.06-.94-2.06-.94-.94-2.06-.94 2.06-2.06.94zm-11 1L8.5 8.5l.94-2.06 2.06-.94-2.06-.94L8.5 2.5l-.94 2.06-2.06.94zm10 10l.94 2.06.94-2.06 2.06-.94-2.06-.94-.94-2.06-.94 2.06-2.06.94z\"/><path d=\"M17.41 7.96l-1.37-1.37c-.4-.4-.92-.59-1.43-.59-.52 0-1.04.2-1.43.59L10.3 9.45l-7.72 7.72c-.78.78-.78 2.05 0 2.83L4 21.41c.39.39.9.59 1.41.59.51 0 1.02-.2 1.41-.59l7.78-7.78 2.81-2.81c.8-.78.8-2.07 0-2.86zM5.41 20L4 18.59l7.72-7.72 1.47 1.35L5.41 20z\"/>\n",
       "  </svg>\n",
       "      </button>\n",
       "      \n",
       "  <style>\n",
       "    .colab-df-container {\n",
       "      display:flex;\n",
       "      flex-wrap:wrap;\n",
       "      gap: 12px;\n",
       "    }\n",
       "\n",
       "    .colab-df-convert {\n",
       "      background-color: #E8F0FE;\n",
       "      border: none;\n",
       "      border-radius: 50%;\n",
       "      cursor: pointer;\n",
       "      display: none;\n",
       "      fill: #1967D2;\n",
       "      height: 32px;\n",
       "      padding: 0 0 0 0;\n",
       "      width: 32px;\n",
       "    }\n",
       "\n",
       "    .colab-df-convert:hover {\n",
       "      background-color: #E2EBFA;\n",
       "      box-shadow: 0px 1px 2px rgba(60, 64, 67, 0.3), 0px 1px 3px 1px rgba(60, 64, 67, 0.15);\n",
       "      fill: #174EA6;\n",
       "    }\n",
       "\n",
       "    [theme=dark] .colab-df-convert {\n",
       "      background-color: #3B4455;\n",
       "      fill: #D2E3FC;\n",
       "    }\n",
       "\n",
       "    [theme=dark] .colab-df-convert:hover {\n",
       "      background-color: #434B5C;\n",
       "      box-shadow: 0px 1px 3px 1px rgba(0, 0, 0, 0.15);\n",
       "      filter: drop-shadow(0px 1px 2px rgba(0, 0, 0, 0.3));\n",
       "      fill: #FFFFFF;\n",
       "    }\n",
       "  </style>\n",
       "\n",
       "      <script>\n",
       "        const buttonEl =\n",
       "          document.querySelector('#df-ba0fb24b-00d8-4a9e-8606-a0a1e68c8c63 button.colab-df-convert');\n",
       "        buttonEl.style.display =\n",
       "          google.colab.kernel.accessAllowed ? 'block' : 'none';\n",
       "\n",
       "        async function convertToInteractive(key) {\n",
       "          const element = document.querySelector('#df-ba0fb24b-00d8-4a9e-8606-a0a1e68c8c63');\n",
       "          const dataTable =\n",
       "            await google.colab.kernel.invokeFunction('convertToInteractive',\n",
       "                                                     [key], {});\n",
       "          if (!dataTable) return;\n",
       "\n",
       "          const docLinkHtml = 'Like what you see? Visit the ' +\n",
       "            '<a target=\"_blank\" href=https://colab.research.google.com/notebooks/data_table.ipynb>data table notebook</a>'\n",
       "            + ' to learn more about interactive tables.';\n",
       "          element.innerHTML = '';\n",
       "          dataTable['output_type'] = 'display_data';\n",
       "          await google.colab.output.renderOutput(dataTable, element);\n",
       "          const docLink = document.createElement('div');\n",
       "          docLink.innerHTML = docLinkHtml;\n",
       "          element.appendChild(docLink);\n",
       "        }\n",
       "      </script>\n",
       "    </div>\n",
       "  </div>\n",
       "  "
      ],
      "text/plain": [
       "                              Model  Accuracy\n",
       "Training set 0  Logistic Regression     0.785\n",
       "             1        Decision Tree     0.950\n",
       "             2        Random Forest     0.950\n",
       "             3  Adaboost Classifier     0.820\n",
       "Test set     0  Logistic Regression     0.785\n",
       "             1        Decision Tree     0.850\n",
       "             2        Random Forest     0.840\n",
       "             3  AdaBoost Classifier     0.820"
      ]
     },
     "execution_count": 177,
     "metadata": {},
     "output_type": "execute_result"
    }
   ],
   "source": [
    "# displaying the results of evaluation metric values for all models\n",
    "result=pd.concat([train_df,test_df],keys=['Training set','Test set'])\n",
    "result"
   ]
  },
  {
   "cell_type": "markdown",
   "metadata": {
    "id": "V9VY2qzmSz6z"
   },
   "source": [
    "- There was overfitting issues while using Random forest method. We tackled that with hyperparameter tuning. \n",
    "- Annual Premium column has the highest importance among all the features. \n",
    "- We are getting 85% accuracy for both test and train dataset while using Random Forest model with hyperparameter tuning.\n",
    "- Hence, we can deploy this model. "
   ]
  }
 ],
 "metadata": {
  "colab": {
   "provenance": []
  },
  "gpuClass": "standard",
  "kernelspec": {
   "display_name": "Python 3 (ipykernel)",
   "language": "python",
   "name": "python3"
  },
  "language_info": {
   "codemirror_mode": {
    "name": "ipython",
    "version": 3
   },
   "file_extension": ".py",
   "mimetype": "text/x-python",
   "name": "python",
   "nbconvert_exporter": "python",
   "pygments_lexer": "ipython3",
   "version": "3.9.13"
  }
 },
 "nbformat": 4,
 "nbformat_minor": 1
}
